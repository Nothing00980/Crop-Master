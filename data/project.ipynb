{
 "cells": [
  {
   "cell_type": "code",
   "execution_count": 3,
   "metadata": {},
   "outputs": [],
   "source": [
    "import pandas as pd\n",
    "import numpy as np\n",
    "import matplotlib.pyplot as ply\n"
   ]
  },
  {
   "cell_type": "code",
   "execution_count": 4,
   "metadata": {},
   "outputs": [],
   "source": [
    "cols = ['MarketName','commodity','variety','Modal price','Date']\n",
    "drop_col = ['Sl no.','District Name','Grade','Min Price (Rs./Quintal)','Max Price (Rs./Quintal)']"
   ]
  },
  {
   "cell_type": "code",
   "execution_count": 5,
   "metadata": {},
   "outputs": [
    {
     "data": {
      "text/html": [
       "<div>\n",
       "<style scoped>\n",
       "    .dataframe tbody tr th:only-of-type {\n",
       "        vertical-align: middle;\n",
       "    }\n",
       "\n",
       "    .dataframe tbody tr th {\n",
       "        vertical-align: top;\n",
       "    }\n",
       "\n",
       "    .dataframe thead th {\n",
       "        text-align: right;\n",
       "    }\n",
       "</style>\n",
       "<table border=\"1\" class=\"dataframe\">\n",
       "  <thead>\n",
       "    <tr style=\"text-align: right;\">\n",
       "      <th></th>\n",
       "      <th>Market</th>\n",
       "      <th>Arrival Date</th>\n",
       "      <th>Arrivals (Tonnes)</th>\n",
       "      <th>Variety</th>\n",
       "      <th>Minimum Price(Rs./Quintal)</th>\n",
       "      <th>Maximum Price(Rs./Quintal)</th>\n",
       "      <th>Modal Price(Rs./Quintal)</th>\n",
       "    </tr>\n",
       "  </thead>\n",
       "  <tbody>\n",
       "    <tr>\n",
       "      <th>0</th>\n",
       "      <td>A lot</td>\n",
       "      <td>4/1/2022</td>\n",
       "      <td>96.23</td>\n",
       "      <td>Desi</td>\n",
       "      <td>800</td>\n",
       "      <td>2500</td>\n",
       "      <td>1600</td>\n",
       "    </tr>\n",
       "    <tr>\n",
       "      <th>1</th>\n",
       "      <td>NaN</td>\n",
       "      <td>5/1/2022</td>\n",
       "      <td>103.52</td>\n",
       "      <td>Desi</td>\n",
       "      <td>600</td>\n",
       "      <td>1800</td>\n",
       "      <td>850</td>\n",
       "    </tr>\n",
       "    <tr>\n",
       "      <th>2</th>\n",
       "      <td>NaN</td>\n",
       "      <td>10/1/2022</td>\n",
       "      <td>143.46</td>\n",
       "      <td>Desi</td>\n",
       "      <td>600</td>\n",
       "      <td>2192</td>\n",
       "      <td>1200</td>\n",
       "    </tr>\n",
       "    <tr>\n",
       "      <th>3</th>\n",
       "      <td>NaN</td>\n",
       "      <td>11/1/2022</td>\n",
       "      <td>196.56</td>\n",
       "      <td>Desi</td>\n",
       "      <td>300</td>\n",
       "      <td>1921</td>\n",
       "      <td>1200</td>\n",
       "    </tr>\n",
       "    <tr>\n",
       "      <th>4</th>\n",
       "      <td>NaN</td>\n",
       "      <td>13/01/2022</td>\n",
       "      <td>186.35</td>\n",
       "      <td>Desi</td>\n",
       "      <td>200</td>\n",
       "      <td>1821</td>\n",
       "      <td>1100</td>\n",
       "    </tr>\n",
       "    <tr>\n",
       "      <th>...</th>\n",
       "      <td>...</td>\n",
       "      <td>...</td>\n",
       "      <td>...</td>\n",
       "      <td>...</td>\n",
       "      <td>...</td>\n",
       "      <td>...</td>\n",
       "      <td>...</td>\n",
       "    </tr>\n",
       "    <tr>\n",
       "      <th>12147</th>\n",
       "      <td>NaN</td>\n",
       "      <td>13/04/2023</td>\n",
       "      <td>307.10</td>\n",
       "      <td>Garlic</td>\n",
       "      <td>561</td>\n",
       "      <td>6000</td>\n",
       "      <td>2889</td>\n",
       "    </tr>\n",
       "    <tr>\n",
       "      <th>12148</th>\n",
       "      <td>NaN</td>\n",
       "      <td>24/04/2023</td>\n",
       "      <td>158.50</td>\n",
       "      <td>Garlic</td>\n",
       "      <td>600</td>\n",
       "      <td>6700</td>\n",
       "      <td>3110</td>\n",
       "    </tr>\n",
       "    <tr>\n",
       "      <th>12149</th>\n",
       "      <td>NaN</td>\n",
       "      <td>25/04/2023</td>\n",
       "      <td>229.60</td>\n",
       "      <td>Garlic</td>\n",
       "      <td>750</td>\n",
       "      <td>7100</td>\n",
       "      <td>3367</td>\n",
       "    </tr>\n",
       "    <tr>\n",
       "      <th>12150</th>\n",
       "      <td>NaN</td>\n",
       "      <td>28/04/2023</td>\n",
       "      <td>69.60</td>\n",
       "      <td>Garlic</td>\n",
       "      <td>699</td>\n",
       "      <td>7200</td>\n",
       "      <td>4185</td>\n",
       "    </tr>\n",
       "    <tr>\n",
       "      <th>12151</th>\n",
       "      <td>NaN</td>\n",
       "      <td>29/04/2023</td>\n",
       "      <td>100.90</td>\n",
       "      <td>Garlic</td>\n",
       "      <td>500</td>\n",
       "      <td>7171</td>\n",
       "      <td>4187</td>\n",
       "    </tr>\n",
       "  </tbody>\n",
       "</table>\n",
       "<p>12152 rows × 7 columns</p>\n",
       "</div>"
      ],
      "text/plain": [
       "      Market Arrival Date  Arrivals (Tonnes) Variety  \\\n",
       "0      A lot     4/1/2022              96.23    Desi   \n",
       "1        NaN     5/1/2022             103.52    Desi   \n",
       "2        NaN    10/1/2022             143.46    Desi   \n",
       "3        NaN    11/1/2022             196.56    Desi   \n",
       "4        NaN   13/01/2022             186.35    Desi   \n",
       "...      ...          ...                ...     ...   \n",
       "12147    NaN   13/04/2023             307.10  Garlic   \n",
       "12148    NaN   24/04/2023             158.50  Garlic   \n",
       "12149    NaN   25/04/2023             229.60  Garlic   \n",
       "12150    NaN   28/04/2023              69.60  Garlic   \n",
       "12151    NaN   29/04/2023             100.90  Garlic   \n",
       "\n",
       "      Minimum Price(Rs./Quintal) Maximum Price(Rs./Quintal)  \\\n",
       "0                            800                       2500   \n",
       "1                            600                       1800   \n",
       "2                            600                       2192   \n",
       "3                            300                       1921   \n",
       "4                            200                       1821   \n",
       "...                          ...                        ...   \n",
       "12147                        561                       6000   \n",
       "12148                        600                       6700   \n",
       "12149                        750                       7100   \n",
       "12150                        699                       7200   \n",
       "12151                        500                       7171   \n",
       "\n",
       "      Modal Price(Rs./Quintal)  \n",
       "0                         1600  \n",
       "1                          850  \n",
       "2                         1200  \n",
       "3                         1200  \n",
       "4                         1100  \n",
       "...                        ...  \n",
       "12147                     2889  \n",
       "12148                     3110  \n",
       "12149                     3367  \n",
       "12150                     4185  \n",
       "12151                     4187  \n",
       "\n",
       "[12152 rows x 7 columns]"
      ]
     },
     "execution_count": 5,
     "metadata": {},
     "output_type": "execute_result"
    }
   ],
   "source": [
    "data = pd.read_csv('garlicmp.csv',parse_dates=True)\n",
    "\n",
    "\n",
    "\n",
    "data"
   ]
  },
  {
   "cell_type": "code",
   "execution_count": 6,
   "metadata": {},
   "outputs": [
    {
     "name": "stderr",
     "output_type": "stream",
     "text": [
      "C:\\Users\\yuvra\\AppData\\Local\\Temp\\ipykernel_18440\\917065080.py:1: FutureWarning: DataFrame.fillna with 'method' is deprecated and will raise in a future version. Use obj.ffill() or obj.bfill() instead.\n",
      "  data = data.fillna(method='ffill')\n"
     ]
    }
   ],
   "source": [
    "data = data.fillna(method='ffill')"
   ]
  },
  {
   "cell_type": "code",
   "execution_count": 7,
   "metadata": {},
   "outputs": [
    {
     "data": {
      "text/html": [
       "<div>\n",
       "<style scoped>\n",
       "    .dataframe tbody tr th:only-of-type {\n",
       "        vertical-align: middle;\n",
       "    }\n",
       "\n",
       "    .dataframe tbody tr th {\n",
       "        vertical-align: top;\n",
       "    }\n",
       "\n",
       "    .dataframe thead th {\n",
       "        text-align: right;\n",
       "    }\n",
       "</style>\n",
       "<table border=\"1\" class=\"dataframe\">\n",
       "  <thead>\n",
       "    <tr style=\"text-align: right;\">\n",
       "      <th></th>\n",
       "      <th>Market</th>\n",
       "      <th>Arrival Date</th>\n",
       "      <th>Arrivals (Tonnes)</th>\n",
       "      <th>Modal Price(Rs./Quintal)</th>\n",
       "    </tr>\n",
       "  </thead>\n",
       "  <tbody>\n",
       "    <tr>\n",
       "      <th>0</th>\n",
       "      <td>A lot</td>\n",
       "      <td>4/1/2022</td>\n",
       "      <td>96.23</td>\n",
       "      <td>1600</td>\n",
       "    </tr>\n",
       "    <tr>\n",
       "      <th>1</th>\n",
       "      <td>A lot</td>\n",
       "      <td>5/1/2022</td>\n",
       "      <td>103.52</td>\n",
       "      <td>850</td>\n",
       "    </tr>\n",
       "    <tr>\n",
       "      <th>2</th>\n",
       "      <td>A lot</td>\n",
       "      <td>10/1/2022</td>\n",
       "      <td>143.46</td>\n",
       "      <td>1200</td>\n",
       "    </tr>\n",
       "    <tr>\n",
       "      <th>3</th>\n",
       "      <td>A lot</td>\n",
       "      <td>11/1/2022</td>\n",
       "      <td>196.56</td>\n",
       "      <td>1200</td>\n",
       "    </tr>\n",
       "    <tr>\n",
       "      <th>4</th>\n",
       "      <td>A lot</td>\n",
       "      <td>13/01/2022</td>\n",
       "      <td>186.35</td>\n",
       "      <td>1100</td>\n",
       "    </tr>\n",
       "    <tr>\n",
       "      <th>...</th>\n",
       "      <td>...</td>\n",
       "      <td>...</td>\n",
       "      <td>...</td>\n",
       "      <td>...</td>\n",
       "    </tr>\n",
       "    <tr>\n",
       "      <th>12147</th>\n",
       "      <td>Ujjain(F&amp;V)</td>\n",
       "      <td>13/04/2023</td>\n",
       "      <td>307.10</td>\n",
       "      <td>2889</td>\n",
       "    </tr>\n",
       "    <tr>\n",
       "      <th>12148</th>\n",
       "      <td>Ujjain(F&amp;V)</td>\n",
       "      <td>24/04/2023</td>\n",
       "      <td>158.50</td>\n",
       "      <td>3110</td>\n",
       "    </tr>\n",
       "    <tr>\n",
       "      <th>12149</th>\n",
       "      <td>Ujjain(F&amp;V)</td>\n",
       "      <td>25/04/2023</td>\n",
       "      <td>229.60</td>\n",
       "      <td>3367</td>\n",
       "    </tr>\n",
       "    <tr>\n",
       "      <th>12150</th>\n",
       "      <td>Ujjain(F&amp;V)</td>\n",
       "      <td>28/04/2023</td>\n",
       "      <td>69.60</td>\n",
       "      <td>4185</td>\n",
       "    </tr>\n",
       "    <tr>\n",
       "      <th>12151</th>\n",
       "      <td>Ujjain(F&amp;V)</td>\n",
       "      <td>29/04/2023</td>\n",
       "      <td>100.90</td>\n",
       "      <td>4187</td>\n",
       "    </tr>\n",
       "  </tbody>\n",
       "</table>\n",
       "<p>12152 rows × 4 columns</p>\n",
       "</div>"
      ],
      "text/plain": [
       "            Market Arrival Date  Arrivals (Tonnes) Modal Price(Rs./Quintal)\n",
       "0            A lot     4/1/2022              96.23                     1600\n",
       "1            A lot     5/1/2022             103.52                      850\n",
       "2            A lot    10/1/2022             143.46                     1200\n",
       "3            A lot    11/1/2022             196.56                     1200\n",
       "4            A lot   13/01/2022             186.35                     1100\n",
       "...            ...          ...                ...                      ...\n",
       "12147  Ujjain(F&V)   13/04/2023             307.10                     2889\n",
       "12148  Ujjain(F&V)   24/04/2023             158.50                     3110\n",
       "12149  Ujjain(F&V)   25/04/2023             229.60                     3367\n",
       "12150  Ujjain(F&V)   28/04/2023              69.60                     4185\n",
       "12151  Ujjain(F&V)   29/04/2023             100.90                     4187\n",
       "\n",
       "[12152 rows x 4 columns]"
      ]
     },
     "execution_count": 7,
     "metadata": {},
     "output_type": "execute_result"
    }
   ],
   "source": [
    "data = data.drop(['Variety','Minimum Price(Rs./Quintal)','Maximum Price(Rs./Quintal)'],axis=1)\n",
    "data"
   ]
  },
  {
   "cell_type": "code",
   "execution_count": 8,
   "metadata": {},
   "outputs": [
    {
     "data": {
      "text/plain": [
       "(467, 4)"
      ]
     },
     "execution_count": 8,
     "metadata": {},
     "output_type": "execute_result"
    }
   ],
   "source": [
    "mydata = data[data['Market'] == 'Thandla']\n",
    "mydata.shape\n"
   ]
  },
  {
   "cell_type": "code",
   "execution_count": null,
   "metadata": {},
   "outputs": [],
   "source": []
  },
  {
   "cell_type": "code",
   "execution_count": 9,
   "metadata": {},
   "outputs": [],
   "source": [
    "i = mydata[mydata['Modal Price(Rs./Quintal)'] == 'NR'].index"
   ]
  },
  {
   "cell_type": "code",
   "execution_count": 10,
   "metadata": {},
   "outputs": [
    {
     "data": {
      "text/plain": [
       "Index([ 3070,  3071,  3072,  3073,  3074,  3075,  3076,  3835,  3836,  3837,\n",
       "        3838,  4605,  4606,  4607,  4608,  4609,  4610,  4611,  4612,  4613,\n",
       "        4614,  4615,  4616,  4617,  4618,  4619,  4620,  4621,  4622,  4623,\n",
       "        4624,  4625,  4626,  4627,  4628,  4629,  4630,  4631,  4632,  4633,\n",
       "       11366, 11367, 11368],\n",
       "      dtype='int64')"
      ]
     },
     "execution_count": 10,
     "metadata": {},
     "output_type": "execute_result"
    }
   ],
   "source": [
    "i"
   ]
  },
  {
   "cell_type": "code",
   "execution_count": 11,
   "metadata": {},
   "outputs": [],
   "source": [
    "mydata = mydata.drop(i)"
   ]
  },
  {
   "cell_type": "code",
   "execution_count": 12,
   "metadata": {},
   "outputs": [
    {
     "data": {
      "text/html": [
       "<div>\n",
       "<style scoped>\n",
       "    .dataframe tbody tr th:only-of-type {\n",
       "        vertical-align: middle;\n",
       "    }\n",
       "\n",
       "    .dataframe tbody tr th {\n",
       "        vertical-align: top;\n",
       "    }\n",
       "\n",
       "    .dataframe thead th {\n",
       "        text-align: right;\n",
       "    }\n",
       "</style>\n",
       "<table border=\"1\" class=\"dataframe\">\n",
       "  <thead>\n",
       "    <tr style=\"text-align: right;\">\n",
       "      <th></th>\n",
       "      <th>Market</th>\n",
       "      <th>Arrival Date</th>\n",
       "      <th>Arrivals (Tonnes)</th>\n",
       "      <th>Modal Price(Rs./Quintal)</th>\n",
       "    </tr>\n",
       "  </thead>\n",
       "  <tbody>\n",
       "  </tbody>\n",
       "</table>\n",
       "</div>"
      ],
      "text/plain": [
       "Empty DataFrame\n",
       "Columns: [Market, Arrival Date, Arrivals (Tonnes), Modal Price(Rs./Quintal)]\n",
       "Index: []"
      ]
     },
     "execution_count": 12,
     "metadata": {},
     "output_type": "execute_result"
    }
   ],
   "source": [
    "mydata[mydata['Arrival Date'] == '01-02-2022']"
   ]
  },
  {
   "cell_type": "code",
   "execution_count": 13,
   "metadata": {},
   "outputs": [],
   "source": [
    "mydata['Arrival Date'] = pd.to_datetime(mydata['Arrival Date'],dayfirst=True)"
   ]
  },
  {
   "cell_type": "code",
   "execution_count": 14,
   "metadata": {},
   "outputs": [],
   "source": [
    "mydata   = mydata.sort_values(by='Arrival Date')\n"
   ]
  },
  {
   "cell_type": "code",
   "execution_count": 15,
   "metadata": {},
   "outputs": [
    {
     "data": {
      "text/html": [
       "<div>\n",
       "<style scoped>\n",
       "    .dataframe tbody tr th:only-of-type {\n",
       "        vertical-align: middle;\n",
       "    }\n",
       "\n",
       "    .dataframe tbody tr th {\n",
       "        vertical-align: top;\n",
       "    }\n",
       "\n",
       "    .dataframe thead th {\n",
       "        text-align: right;\n",
       "    }\n",
       "</style>\n",
       "<table border=\"1\" class=\"dataframe\">\n",
       "  <thead>\n",
       "    <tr style=\"text-align: right;\">\n",
       "      <th></th>\n",
       "      <th>Market</th>\n",
       "      <th>Arrival Date</th>\n",
       "      <th>Arrivals (Tonnes)</th>\n",
       "      <th>Modal Price(Rs./Quintal)</th>\n",
       "    </tr>\n",
       "  </thead>\n",
       "  <tbody>\n",
       "    <tr>\n",
       "      <th>734</th>\n",
       "      <td>Thandla</td>\n",
       "      <td>2022-01-02</td>\n",
       "      <td>2.40</td>\n",
       "      <td>3500</td>\n",
       "    </tr>\n",
       "    <tr>\n",
       "      <th>735</th>\n",
       "      <td>Thandla</td>\n",
       "      <td>2022-01-03</td>\n",
       "      <td>3.00</td>\n",
       "      <td>3500</td>\n",
       "    </tr>\n",
       "    <tr>\n",
       "      <th>736</th>\n",
       "      <td>Thandla</td>\n",
       "      <td>2022-01-04</td>\n",
       "      <td>3.00</td>\n",
       "      <td>3500</td>\n",
       "    </tr>\n",
       "    <tr>\n",
       "      <th>737</th>\n",
       "      <td>Thandla</td>\n",
       "      <td>2022-01-05</td>\n",
       "      <td>3.00</td>\n",
       "      <td>3500</td>\n",
       "    </tr>\n",
       "    <tr>\n",
       "      <th>738</th>\n",
       "      <td>Thandla</td>\n",
       "      <td>2022-01-06</td>\n",
       "      <td>3.00</td>\n",
       "      <td>3500</td>\n",
       "    </tr>\n",
       "    <tr>\n",
       "      <th>...</th>\n",
       "      <td>...</td>\n",
       "      <td>...</td>\n",
       "      <td>...</td>\n",
       "      <td>...</td>\n",
       "    </tr>\n",
       "    <tr>\n",
       "      <th>12132</th>\n",
       "      <td>Thandla</td>\n",
       "      <td>2023-04-26</td>\n",
       "      <td>0.12</td>\n",
       "      <td>1800</td>\n",
       "    </tr>\n",
       "    <tr>\n",
       "      <th>12133</th>\n",
       "      <td>Thandla</td>\n",
       "      <td>2023-04-27</td>\n",
       "      <td>0.13</td>\n",
       "      <td>1800</td>\n",
       "    </tr>\n",
       "    <tr>\n",
       "      <th>12134</th>\n",
       "      <td>Thandla</td>\n",
       "      <td>2023-04-28</td>\n",
       "      <td>0.15</td>\n",
       "      <td>1800</td>\n",
       "    </tr>\n",
       "    <tr>\n",
       "      <th>12135</th>\n",
       "      <td>Thandla</td>\n",
       "      <td>2023-04-29</td>\n",
       "      <td>0.11</td>\n",
       "      <td>1800</td>\n",
       "    </tr>\n",
       "    <tr>\n",
       "      <th>12136</th>\n",
       "      <td>Thandla</td>\n",
       "      <td>2023-04-30</td>\n",
       "      <td>0.12</td>\n",
       "      <td>1800</td>\n",
       "    </tr>\n",
       "  </tbody>\n",
       "</table>\n",
       "<p>424 rows × 4 columns</p>\n",
       "</div>"
      ],
      "text/plain": [
       "        Market Arrival Date  Arrivals (Tonnes) Modal Price(Rs./Quintal)\n",
       "734    Thandla   2022-01-02               2.40                     3500\n",
       "735    Thandla   2022-01-03               3.00                     3500\n",
       "736    Thandla   2022-01-04               3.00                     3500\n",
       "737    Thandla   2022-01-05               3.00                     3500\n",
       "738    Thandla   2022-01-06               3.00                     3500\n",
       "...        ...          ...                ...                      ...\n",
       "12132  Thandla   2023-04-26               0.12                     1800\n",
       "12133  Thandla   2023-04-27               0.13                     1800\n",
       "12134  Thandla   2023-04-28               0.15                     1800\n",
       "12135  Thandla   2023-04-29               0.11                     1800\n",
       "12136  Thandla   2023-04-30               0.12                     1800\n",
       "\n",
       "[424 rows x 4 columns]"
      ]
     },
     "execution_count": 15,
     "metadata": {},
     "output_type": "execute_result"
    }
   ],
   "source": [
    "mydata"
   ]
  },
  {
   "cell_type": "code",
   "execution_count": 16,
   "metadata": {},
   "outputs": [],
   "source": [
    "idx = pd.date_range('01-01-2022','30-04-2023')"
   ]
  },
  {
   "cell_type": "code",
   "execution_count": null,
   "metadata": {},
   "outputs": [],
   "source": []
  },
  {
   "cell_type": "code",
   "execution_count": null,
   "metadata": {},
   "outputs": [],
   "source": []
  },
  {
   "cell_type": "code",
   "execution_count": null,
   "metadata": {},
   "outputs": [],
   "source": []
  },
  {
   "cell_type": "code",
   "execution_count": 17,
   "metadata": {},
   "outputs": [],
   "source": [
    "mydata['Datereal'] = mydata['Arrival Date'].apply(lambda x : x.strftime('%Y%m%d'))"
   ]
  },
  {
   "cell_type": "code",
   "execution_count": 18,
   "metadata": {},
   "outputs": [
    {
     "data": {
      "text/html": [
       "<div>\n",
       "<style scoped>\n",
       "    .dataframe tbody tr th:only-of-type {\n",
       "        vertical-align: middle;\n",
       "    }\n",
       "\n",
       "    .dataframe tbody tr th {\n",
       "        vertical-align: top;\n",
       "    }\n",
       "\n",
       "    .dataframe thead th {\n",
       "        text-align: right;\n",
       "    }\n",
       "</style>\n",
       "<table border=\"1\" class=\"dataframe\">\n",
       "  <thead>\n",
       "    <tr style=\"text-align: right;\">\n",
       "      <th></th>\n",
       "      <th>Market</th>\n",
       "      <th>Arrival Date</th>\n",
       "      <th>Arrivals (Tonnes)</th>\n",
       "      <th>Modal Price(Rs./Quintal)</th>\n",
       "      <th>Datereal</th>\n",
       "    </tr>\n",
       "  </thead>\n",
       "  <tbody>\n",
       "    <tr>\n",
       "      <th>734</th>\n",
       "      <td>Thandla</td>\n",
       "      <td>2022-01-02</td>\n",
       "      <td>2.40</td>\n",
       "      <td>3500</td>\n",
       "      <td>20220102</td>\n",
       "    </tr>\n",
       "    <tr>\n",
       "      <th>735</th>\n",
       "      <td>Thandla</td>\n",
       "      <td>2022-01-03</td>\n",
       "      <td>3.00</td>\n",
       "      <td>3500</td>\n",
       "      <td>20220103</td>\n",
       "    </tr>\n",
       "    <tr>\n",
       "      <th>736</th>\n",
       "      <td>Thandla</td>\n",
       "      <td>2022-01-04</td>\n",
       "      <td>3.00</td>\n",
       "      <td>3500</td>\n",
       "      <td>20220104</td>\n",
       "    </tr>\n",
       "    <tr>\n",
       "      <th>737</th>\n",
       "      <td>Thandla</td>\n",
       "      <td>2022-01-05</td>\n",
       "      <td>3.00</td>\n",
       "      <td>3500</td>\n",
       "      <td>20220105</td>\n",
       "    </tr>\n",
       "    <tr>\n",
       "      <th>738</th>\n",
       "      <td>Thandla</td>\n",
       "      <td>2022-01-06</td>\n",
       "      <td>3.00</td>\n",
       "      <td>3500</td>\n",
       "      <td>20220106</td>\n",
       "    </tr>\n",
       "    <tr>\n",
       "      <th>...</th>\n",
       "      <td>...</td>\n",
       "      <td>...</td>\n",
       "      <td>...</td>\n",
       "      <td>...</td>\n",
       "      <td>...</td>\n",
       "    </tr>\n",
       "    <tr>\n",
       "      <th>12132</th>\n",
       "      <td>Thandla</td>\n",
       "      <td>2023-04-26</td>\n",
       "      <td>0.12</td>\n",
       "      <td>1800</td>\n",
       "      <td>20230426</td>\n",
       "    </tr>\n",
       "    <tr>\n",
       "      <th>12133</th>\n",
       "      <td>Thandla</td>\n",
       "      <td>2023-04-27</td>\n",
       "      <td>0.13</td>\n",
       "      <td>1800</td>\n",
       "      <td>20230427</td>\n",
       "    </tr>\n",
       "    <tr>\n",
       "      <th>12134</th>\n",
       "      <td>Thandla</td>\n",
       "      <td>2023-04-28</td>\n",
       "      <td>0.15</td>\n",
       "      <td>1800</td>\n",
       "      <td>20230428</td>\n",
       "    </tr>\n",
       "    <tr>\n",
       "      <th>12135</th>\n",
       "      <td>Thandla</td>\n",
       "      <td>2023-04-29</td>\n",
       "      <td>0.11</td>\n",
       "      <td>1800</td>\n",
       "      <td>20230429</td>\n",
       "    </tr>\n",
       "    <tr>\n",
       "      <th>12136</th>\n",
       "      <td>Thandla</td>\n",
       "      <td>2023-04-30</td>\n",
       "      <td>0.12</td>\n",
       "      <td>1800</td>\n",
       "      <td>20230430</td>\n",
       "    </tr>\n",
       "  </tbody>\n",
       "</table>\n",
       "<p>424 rows × 5 columns</p>\n",
       "</div>"
      ],
      "text/plain": [
       "        Market Arrival Date  Arrivals (Tonnes) Modal Price(Rs./Quintal)  \\\n",
       "734    Thandla   2022-01-02               2.40                     3500   \n",
       "735    Thandla   2022-01-03               3.00                     3500   \n",
       "736    Thandla   2022-01-04               3.00                     3500   \n",
       "737    Thandla   2022-01-05               3.00                     3500   \n",
       "738    Thandla   2022-01-06               3.00                     3500   \n",
       "...        ...          ...                ...                      ...   \n",
       "12132  Thandla   2023-04-26               0.12                     1800   \n",
       "12133  Thandla   2023-04-27               0.13                     1800   \n",
       "12134  Thandla   2023-04-28               0.15                     1800   \n",
       "12135  Thandla   2023-04-29               0.11                     1800   \n",
       "12136  Thandla   2023-04-30               0.12                     1800   \n",
       "\n",
       "       Datereal  \n",
       "734    20220102  \n",
       "735    20220103  \n",
       "736    20220104  \n",
       "737    20220105  \n",
       "738    20220106  \n",
       "...         ...  \n",
       "12132  20230426  \n",
       "12133  20230427  \n",
       "12134  20230428  \n",
       "12135  20230429  \n",
       "12136  20230430  \n",
       "\n",
       "[424 rows x 5 columns]"
      ]
     },
     "execution_count": 18,
     "metadata": {},
     "output_type": "execute_result"
    }
   ],
   "source": [
    "mydata"
   ]
  },
  {
   "cell_type": "code",
   "execution_count": 19,
   "metadata": {},
   "outputs": [
    {
     "data": {
      "text/plain": [
       "(424, 5)"
      ]
     },
     "execution_count": 19,
     "metadata": {},
     "output_type": "execute_result"
    }
   ],
   "source": [
    "mydata.shape"
   ]
  },
  {
   "cell_type": "code",
   "execution_count": 20,
   "metadata": {},
   "outputs": [],
   "source": [
    "mydata.index = np.arange(len(mydata.index))"
   ]
  },
  {
   "cell_type": "code",
   "execution_count": null,
   "metadata": {},
   "outputs": [],
   "source": []
  },
  {
   "cell_type": "code",
   "execution_count": 21,
   "metadata": {},
   "outputs": [
    {
     "data": {
      "text/html": [
       "<div>\n",
       "<style scoped>\n",
       "    .dataframe tbody tr th:only-of-type {\n",
       "        vertical-align: middle;\n",
       "    }\n",
       "\n",
       "    .dataframe tbody tr th {\n",
       "        vertical-align: top;\n",
       "    }\n",
       "\n",
       "    .dataframe thead th {\n",
       "        text-align: right;\n",
       "    }\n",
       "</style>\n",
       "<table border=\"1\" class=\"dataframe\">\n",
       "  <thead>\n",
       "    <tr style=\"text-align: right;\">\n",
       "      <th></th>\n",
       "      <th>Market</th>\n",
       "      <th>Arrival Date</th>\n",
       "      <th>Arrivals (Tonnes)</th>\n",
       "      <th>Modal Price(Rs./Quintal)</th>\n",
       "      <th>Datereal</th>\n",
       "    </tr>\n",
       "  </thead>\n",
       "  <tbody>\n",
       "    <tr>\n",
       "      <th>0</th>\n",
       "      <td>Thandla</td>\n",
       "      <td>2022-01-02</td>\n",
       "      <td>2.40</td>\n",
       "      <td>3500</td>\n",
       "      <td>20220102</td>\n",
       "    </tr>\n",
       "    <tr>\n",
       "      <th>1</th>\n",
       "      <td>Thandla</td>\n",
       "      <td>2022-01-03</td>\n",
       "      <td>3.00</td>\n",
       "      <td>3500</td>\n",
       "      <td>20220103</td>\n",
       "    </tr>\n",
       "    <tr>\n",
       "      <th>2</th>\n",
       "      <td>Thandla</td>\n",
       "      <td>2022-01-04</td>\n",
       "      <td>3.00</td>\n",
       "      <td>3500</td>\n",
       "      <td>20220104</td>\n",
       "    </tr>\n",
       "    <tr>\n",
       "      <th>3</th>\n",
       "      <td>Thandla</td>\n",
       "      <td>2022-01-05</td>\n",
       "      <td>3.00</td>\n",
       "      <td>3500</td>\n",
       "      <td>20220105</td>\n",
       "    </tr>\n",
       "    <tr>\n",
       "      <th>4</th>\n",
       "      <td>Thandla</td>\n",
       "      <td>2022-01-06</td>\n",
       "      <td>3.00</td>\n",
       "      <td>3500</td>\n",
       "      <td>20220106</td>\n",
       "    </tr>\n",
       "    <tr>\n",
       "      <th>...</th>\n",
       "      <td>...</td>\n",
       "      <td>...</td>\n",
       "      <td>...</td>\n",
       "      <td>...</td>\n",
       "      <td>...</td>\n",
       "    </tr>\n",
       "    <tr>\n",
       "      <th>419</th>\n",
       "      <td>Thandla</td>\n",
       "      <td>2023-04-26</td>\n",
       "      <td>0.12</td>\n",
       "      <td>1800</td>\n",
       "      <td>20230426</td>\n",
       "    </tr>\n",
       "    <tr>\n",
       "      <th>420</th>\n",
       "      <td>Thandla</td>\n",
       "      <td>2023-04-27</td>\n",
       "      <td>0.13</td>\n",
       "      <td>1800</td>\n",
       "      <td>20230427</td>\n",
       "    </tr>\n",
       "    <tr>\n",
       "      <th>421</th>\n",
       "      <td>Thandla</td>\n",
       "      <td>2023-04-28</td>\n",
       "      <td>0.15</td>\n",
       "      <td>1800</td>\n",
       "      <td>20230428</td>\n",
       "    </tr>\n",
       "    <tr>\n",
       "      <th>422</th>\n",
       "      <td>Thandla</td>\n",
       "      <td>2023-04-29</td>\n",
       "      <td>0.11</td>\n",
       "      <td>1800</td>\n",
       "      <td>20230429</td>\n",
       "    </tr>\n",
       "    <tr>\n",
       "      <th>423</th>\n",
       "      <td>Thandla</td>\n",
       "      <td>2023-04-30</td>\n",
       "      <td>0.12</td>\n",
       "      <td>1800</td>\n",
       "      <td>20230430</td>\n",
       "    </tr>\n",
       "  </tbody>\n",
       "</table>\n",
       "<p>424 rows × 5 columns</p>\n",
       "</div>"
      ],
      "text/plain": [
       "      Market Arrival Date  Arrivals (Tonnes) Modal Price(Rs./Quintal)  \\\n",
       "0    Thandla   2022-01-02               2.40                     3500   \n",
       "1    Thandla   2022-01-03               3.00                     3500   \n",
       "2    Thandla   2022-01-04               3.00                     3500   \n",
       "3    Thandla   2022-01-05               3.00                     3500   \n",
       "4    Thandla   2022-01-06               3.00                     3500   \n",
       "..       ...          ...                ...                      ...   \n",
       "419  Thandla   2023-04-26               0.12                     1800   \n",
       "420  Thandla   2023-04-27               0.13                     1800   \n",
       "421  Thandla   2023-04-28               0.15                     1800   \n",
       "422  Thandla   2023-04-29               0.11                     1800   \n",
       "423  Thandla   2023-04-30               0.12                     1800   \n",
       "\n",
       "     Datereal  \n",
       "0    20220102  \n",
       "1    20220103  \n",
       "2    20220104  \n",
       "3    20220105  \n",
       "4    20220106  \n",
       "..        ...  \n",
       "419  20230426  \n",
       "420  20230427  \n",
       "421  20230428  \n",
       "422  20230429  \n",
       "423  20230430  \n",
       "\n",
       "[424 rows x 5 columns]"
      ]
     },
     "execution_count": 21,
     "metadata": {},
     "output_type": "execute_result"
    }
   ],
   "source": [
    "mydata"
   ]
  },
  {
   "cell_type": "code",
   "execution_count": 22,
   "metadata": {},
   "outputs": [],
   "source": [
    "mydata['Ma30'] = mydata['Modal Price(Rs./Quintal)'].rolling(window=30).mean()\n",
    "mydata['Ma12'] = mydata['Modal Price(Rs./Quintal)'].rolling(window=12).mean()"
   ]
  },
  {
   "cell_type": "code",
   "execution_count": 23,
   "metadata": {},
   "outputs": [
    {
     "data": {
      "text/html": [
       "<div>\n",
       "<style scoped>\n",
       "    .dataframe tbody tr th:only-of-type {\n",
       "        vertical-align: middle;\n",
       "    }\n",
       "\n",
       "    .dataframe tbody tr th {\n",
       "        vertical-align: top;\n",
       "    }\n",
       "\n",
       "    .dataframe thead th {\n",
       "        text-align: right;\n",
       "    }\n",
       "</style>\n",
       "<table border=\"1\" class=\"dataframe\">\n",
       "  <thead>\n",
       "    <tr style=\"text-align: right;\">\n",
       "      <th></th>\n",
       "      <th>Market</th>\n",
       "      <th>Arrival Date</th>\n",
       "      <th>Arrivals (Tonnes)</th>\n",
       "      <th>Modal Price(Rs./Quintal)</th>\n",
       "      <th>Datereal</th>\n",
       "      <th>Ma30</th>\n",
       "      <th>Ma12</th>\n",
       "    </tr>\n",
       "  </thead>\n",
       "  <tbody>\n",
       "    <tr>\n",
       "      <th>0</th>\n",
       "      <td>Thandla</td>\n",
       "      <td>2022-01-02</td>\n",
       "      <td>2.40</td>\n",
       "      <td>3500</td>\n",
       "      <td>20220102</td>\n",
       "      <td>NaN</td>\n",
       "      <td>NaN</td>\n",
       "    </tr>\n",
       "    <tr>\n",
       "      <th>1</th>\n",
       "      <td>Thandla</td>\n",
       "      <td>2022-01-03</td>\n",
       "      <td>3.00</td>\n",
       "      <td>3500</td>\n",
       "      <td>20220103</td>\n",
       "      <td>NaN</td>\n",
       "      <td>NaN</td>\n",
       "    </tr>\n",
       "    <tr>\n",
       "      <th>2</th>\n",
       "      <td>Thandla</td>\n",
       "      <td>2022-01-04</td>\n",
       "      <td>3.00</td>\n",
       "      <td>3500</td>\n",
       "      <td>20220104</td>\n",
       "      <td>NaN</td>\n",
       "      <td>NaN</td>\n",
       "    </tr>\n",
       "    <tr>\n",
       "      <th>3</th>\n",
       "      <td>Thandla</td>\n",
       "      <td>2022-01-05</td>\n",
       "      <td>3.00</td>\n",
       "      <td>3500</td>\n",
       "      <td>20220105</td>\n",
       "      <td>NaN</td>\n",
       "      <td>NaN</td>\n",
       "    </tr>\n",
       "    <tr>\n",
       "      <th>4</th>\n",
       "      <td>Thandla</td>\n",
       "      <td>2022-01-06</td>\n",
       "      <td>3.00</td>\n",
       "      <td>3500</td>\n",
       "      <td>20220106</td>\n",
       "      <td>NaN</td>\n",
       "      <td>NaN</td>\n",
       "    </tr>\n",
       "    <tr>\n",
       "      <th>...</th>\n",
       "      <td>...</td>\n",
       "      <td>...</td>\n",
       "      <td>...</td>\n",
       "      <td>...</td>\n",
       "      <td>...</td>\n",
       "      <td>...</td>\n",
       "      <td>...</td>\n",
       "    </tr>\n",
       "    <tr>\n",
       "      <th>419</th>\n",
       "      <td>Thandla</td>\n",
       "      <td>2023-04-26</td>\n",
       "      <td>0.12</td>\n",
       "      <td>1800</td>\n",
       "      <td>20230426</td>\n",
       "      <td>1693.333333</td>\n",
       "      <td>1800.0</td>\n",
       "    </tr>\n",
       "    <tr>\n",
       "      <th>420</th>\n",
       "      <td>Thandla</td>\n",
       "      <td>2023-04-27</td>\n",
       "      <td>0.13</td>\n",
       "      <td>1800</td>\n",
       "      <td>20230427</td>\n",
       "      <td>1720.000000</td>\n",
       "      <td>1800.0</td>\n",
       "    </tr>\n",
       "    <tr>\n",
       "      <th>421</th>\n",
       "      <td>Thandla</td>\n",
       "      <td>2023-04-28</td>\n",
       "      <td>0.15</td>\n",
       "      <td>1800</td>\n",
       "      <td>20230428</td>\n",
       "      <td>1746.666667</td>\n",
       "      <td>1800.0</td>\n",
       "    </tr>\n",
       "    <tr>\n",
       "      <th>422</th>\n",
       "      <td>Thandla</td>\n",
       "      <td>2023-04-29</td>\n",
       "      <td>0.11</td>\n",
       "      <td>1800</td>\n",
       "      <td>20230429</td>\n",
       "      <td>1773.333333</td>\n",
       "      <td>1800.0</td>\n",
       "    </tr>\n",
       "    <tr>\n",
       "      <th>423</th>\n",
       "      <td>Thandla</td>\n",
       "      <td>2023-04-30</td>\n",
       "      <td>0.12</td>\n",
       "      <td>1800</td>\n",
       "      <td>20230430</td>\n",
       "      <td>1800.000000</td>\n",
       "      <td>1800.0</td>\n",
       "    </tr>\n",
       "  </tbody>\n",
       "</table>\n",
       "<p>424 rows × 7 columns</p>\n",
       "</div>"
      ],
      "text/plain": [
       "      Market Arrival Date  Arrivals (Tonnes) Modal Price(Rs./Quintal)  \\\n",
       "0    Thandla   2022-01-02               2.40                     3500   \n",
       "1    Thandla   2022-01-03               3.00                     3500   \n",
       "2    Thandla   2022-01-04               3.00                     3500   \n",
       "3    Thandla   2022-01-05               3.00                     3500   \n",
       "4    Thandla   2022-01-06               3.00                     3500   \n",
       "..       ...          ...                ...                      ...   \n",
       "419  Thandla   2023-04-26               0.12                     1800   \n",
       "420  Thandla   2023-04-27               0.13                     1800   \n",
       "421  Thandla   2023-04-28               0.15                     1800   \n",
       "422  Thandla   2023-04-29               0.11                     1800   \n",
       "423  Thandla   2023-04-30               0.12                     1800   \n",
       "\n",
       "     Datereal         Ma30    Ma12  \n",
       "0    20220102          NaN     NaN  \n",
       "1    20220103          NaN     NaN  \n",
       "2    20220104          NaN     NaN  \n",
       "3    20220105          NaN     NaN  \n",
       "4    20220106          NaN     NaN  \n",
       "..        ...          ...     ...  \n",
       "419  20230426  1693.333333  1800.0  \n",
       "420  20230427  1720.000000  1800.0  \n",
       "421  20230428  1746.666667  1800.0  \n",
       "422  20230429  1773.333333  1800.0  \n",
       "423  20230430  1800.000000  1800.0  \n",
       "\n",
       "[424 rows x 7 columns]"
      ]
     },
     "execution_count": 23,
     "metadata": {},
     "output_type": "execute_result"
    }
   ],
   "source": [
    "mydata"
   ]
  },
  {
   "cell_type": "code",
   "execution_count": 24,
   "metadata": {},
   "outputs": [
    {
     "data": {
      "text/html": [
       "<div>\n",
       "<style scoped>\n",
       "    .dataframe tbody tr th:only-of-type {\n",
       "        vertical-align: middle;\n",
       "    }\n",
       "\n",
       "    .dataframe tbody tr th {\n",
       "        vertical-align: top;\n",
       "    }\n",
       "\n",
       "    .dataframe thead th {\n",
       "        text-align: right;\n",
       "    }\n",
       "</style>\n",
       "<table border=\"1\" class=\"dataframe\">\n",
       "  <thead>\n",
       "    <tr style=\"text-align: right;\">\n",
       "      <th></th>\n",
       "      <th>Market</th>\n",
       "      <th>Arrival Date</th>\n",
       "      <th>Arrivals (Tonnes)</th>\n",
       "      <th>Modal Price(Rs./Quintal)</th>\n",
       "      <th>Datereal</th>\n",
       "      <th>Ma30</th>\n",
       "      <th>Ma12</th>\n",
       "    </tr>\n",
       "  </thead>\n",
       "  <tbody>\n",
       "    <tr>\n",
       "      <th>0</th>\n",
       "      <td>Thandla</td>\n",
       "      <td>2022-01-02</td>\n",
       "      <td>2.40</td>\n",
       "      <td>3500</td>\n",
       "      <td>20220102</td>\n",
       "      <td>NaN</td>\n",
       "      <td>NaN</td>\n",
       "    </tr>\n",
       "    <tr>\n",
       "      <th>1</th>\n",
       "      <td>Thandla</td>\n",
       "      <td>2022-01-03</td>\n",
       "      <td>3.00</td>\n",
       "      <td>3500</td>\n",
       "      <td>20220103</td>\n",
       "      <td>NaN</td>\n",
       "      <td>NaN</td>\n",
       "    </tr>\n",
       "    <tr>\n",
       "      <th>2</th>\n",
       "      <td>Thandla</td>\n",
       "      <td>2022-01-04</td>\n",
       "      <td>3.00</td>\n",
       "      <td>3500</td>\n",
       "      <td>20220104</td>\n",
       "      <td>NaN</td>\n",
       "      <td>NaN</td>\n",
       "    </tr>\n",
       "    <tr>\n",
       "      <th>3</th>\n",
       "      <td>Thandla</td>\n",
       "      <td>2022-01-05</td>\n",
       "      <td>3.00</td>\n",
       "      <td>3500</td>\n",
       "      <td>20220105</td>\n",
       "      <td>NaN</td>\n",
       "      <td>NaN</td>\n",
       "    </tr>\n",
       "    <tr>\n",
       "      <th>4</th>\n",
       "      <td>Thandla</td>\n",
       "      <td>2022-01-06</td>\n",
       "      <td>3.00</td>\n",
       "      <td>3500</td>\n",
       "      <td>20220106</td>\n",
       "      <td>NaN</td>\n",
       "      <td>NaN</td>\n",
       "    </tr>\n",
       "    <tr>\n",
       "      <th>...</th>\n",
       "      <td>...</td>\n",
       "      <td>...</td>\n",
       "      <td>...</td>\n",
       "      <td>...</td>\n",
       "      <td>...</td>\n",
       "      <td>...</td>\n",
       "      <td>...</td>\n",
       "    </tr>\n",
       "    <tr>\n",
       "      <th>419</th>\n",
       "      <td>Thandla</td>\n",
       "      <td>2023-04-26</td>\n",
       "      <td>0.12</td>\n",
       "      <td>1800</td>\n",
       "      <td>20230426</td>\n",
       "      <td>1693.333333</td>\n",
       "      <td>1800.0</td>\n",
       "    </tr>\n",
       "    <tr>\n",
       "      <th>420</th>\n",
       "      <td>Thandla</td>\n",
       "      <td>2023-04-27</td>\n",
       "      <td>0.13</td>\n",
       "      <td>1800</td>\n",
       "      <td>20230427</td>\n",
       "      <td>1720.000000</td>\n",
       "      <td>1800.0</td>\n",
       "    </tr>\n",
       "    <tr>\n",
       "      <th>421</th>\n",
       "      <td>Thandla</td>\n",
       "      <td>2023-04-28</td>\n",
       "      <td>0.15</td>\n",
       "      <td>1800</td>\n",
       "      <td>20230428</td>\n",
       "      <td>1746.666667</td>\n",
       "      <td>1800.0</td>\n",
       "    </tr>\n",
       "    <tr>\n",
       "      <th>422</th>\n",
       "      <td>Thandla</td>\n",
       "      <td>2023-04-29</td>\n",
       "      <td>0.11</td>\n",
       "      <td>1800</td>\n",
       "      <td>20230429</td>\n",
       "      <td>1773.333333</td>\n",
       "      <td>1800.0</td>\n",
       "    </tr>\n",
       "    <tr>\n",
       "      <th>423</th>\n",
       "      <td>Thandla</td>\n",
       "      <td>2023-04-30</td>\n",
       "      <td>0.12</td>\n",
       "      <td>1800</td>\n",
       "      <td>20230430</td>\n",
       "      <td>1800.000000</td>\n",
       "      <td>1800.0</td>\n",
       "    </tr>\n",
       "  </tbody>\n",
       "</table>\n",
       "<p>424 rows × 7 columns</p>\n",
       "</div>"
      ],
      "text/plain": [
       "      Market Arrival Date  Arrivals (Tonnes) Modal Price(Rs./Quintal)  \\\n",
       "0    Thandla   2022-01-02               2.40                     3500   \n",
       "1    Thandla   2022-01-03               3.00                     3500   \n",
       "2    Thandla   2022-01-04               3.00                     3500   \n",
       "3    Thandla   2022-01-05               3.00                     3500   \n",
       "4    Thandla   2022-01-06               3.00                     3500   \n",
       "..       ...          ...                ...                      ...   \n",
       "419  Thandla   2023-04-26               0.12                     1800   \n",
       "420  Thandla   2023-04-27               0.13                     1800   \n",
       "421  Thandla   2023-04-28               0.15                     1800   \n",
       "422  Thandla   2023-04-29               0.11                     1800   \n",
       "423  Thandla   2023-04-30               0.12                     1800   \n",
       "\n",
       "     Datereal         Ma30    Ma12  \n",
       "0    20220102          NaN     NaN  \n",
       "1    20220103          NaN     NaN  \n",
       "2    20220104          NaN     NaN  \n",
       "3    20220105          NaN     NaN  \n",
       "4    20220106          NaN     NaN  \n",
       "..        ...          ...     ...  \n",
       "419  20230426  1693.333333  1800.0  \n",
       "420  20230427  1720.000000  1800.0  \n",
       "421  20230428  1746.666667  1800.0  \n",
       "422  20230429  1773.333333  1800.0  \n",
       "423  20230430  1800.000000  1800.0  \n",
       "\n",
       "[424 rows x 7 columns]"
      ]
     },
     "execution_count": 24,
     "metadata": {},
     "output_type": "execute_result"
    }
   ],
   "source": [
    "mydata\n"
   ]
  },
  {
   "cell_type": "code",
   "execution_count": 25,
   "metadata": {},
   "outputs": [
    {
     "ename": "ModuleNotFoundError",
     "evalue": "No module named 'plotly'",
     "output_type": "error",
     "traceback": [
      "\u001b[1;31m---------------------------------------------------------------------------\u001b[0m",
      "\u001b[1;31mModuleNotFoundError\u001b[0m                       Traceback (most recent call last)",
      "\u001b[1;32mc:\\Users\\yuvra\\Desktop\\data\\project.ipynb Cell 28\u001b[0m line \u001b[0;36m1\n\u001b[1;32m----> <a href='vscode-notebook-cell:/c%3A/Users/yuvra/Desktop/data/project.ipynb#X36sZmlsZQ%3D%3D?line=0'>1</a>\u001b[0m \u001b[39mimport\u001b[39;00m \u001b[39mplotly\u001b[39;00m\u001b[39m.\u001b[39;00m\u001b[39mexpress\u001b[39;00m \u001b[39mas\u001b[39;00m \u001b[39mpx\u001b[39;00m\n\u001b[0;32m      <a href='vscode-notebook-cell:/c%3A/Users/yuvra/Desktop/data/project.ipynb#X36sZmlsZQ%3D%3D?line=1'>2</a>\u001b[0m fig \u001b[39m=\u001b[39m px\u001b[39m.\u001b[39mline(mydata, x\u001b[39m=\u001b[39m\u001b[39m\"\u001b[39m\u001b[39mDatereal\u001b[39m\u001b[39m\"\u001b[39m, y\u001b[39m=\u001b[39m[\u001b[39m\"\u001b[39m\u001b[39mMa12\u001b[39m\u001b[39m\"\u001b[39m,\u001b[39m\"\u001b[39m\u001b[39mMa30\u001b[39m\u001b[39m\"\u001b[39m], template \u001b[39m=\u001b[39m \u001b[39m'\u001b[39m\u001b[39mplotly_dark\u001b[39m\u001b[39m'\u001b[39m)\n\u001b[0;32m      <a href='vscode-notebook-cell:/c%3A/Users/yuvra/Desktop/data/project.ipynb#X36sZmlsZQ%3D%3D?line=2'>3</a>\u001b[0m fig\u001b[39m.\u001b[39mshow()\n",
      "\u001b[1;31mModuleNotFoundError\u001b[0m: No module named 'plotly'"
     ]
    }
   ],
   "source": [
    "import plotly.express as px\n",
    "fig = px.line(mydata, x=\"Datereal\", y=[\"Ma12\",\"Ma30\"], template = 'plotly_dark')\n",
    "fig.show()"
   ]
  },
  {
   "cell_type": "code",
   "execution_count": null,
   "metadata": {},
   "outputs": [],
   "source": [
    "mydata['Month'] = [i.month for i in mydata['Arrival Date']]\n",
    "mydata['Year'] = [i.year for i in mydata['Arrival Date']]"
   ]
  },
  {
   "cell_type": "code",
   "execution_count": null,
   "metadata": {},
   "outputs": [
    {
     "data": {
      "text/html": [
       "<div>\n",
       "<style scoped>\n",
       "    .dataframe tbody tr th:only-of-type {\n",
       "        vertical-align: middle;\n",
       "    }\n",
       "\n",
       "    .dataframe tbody tr th {\n",
       "        vertical-align: top;\n",
       "    }\n",
       "\n",
       "    .dataframe thead th {\n",
       "        text-align: right;\n",
       "    }\n",
       "</style>\n",
       "<table border=\"1\" class=\"dataframe\">\n",
       "  <thead>\n",
       "    <tr style=\"text-align: right;\">\n",
       "      <th></th>\n",
       "      <th>Market</th>\n",
       "      <th>Arrival Date</th>\n",
       "      <th>Arrivals (Tonnes)</th>\n",
       "      <th>Modal Price(Rs./Quintal)</th>\n",
       "      <th>Datereal</th>\n",
       "      <th>Ma30</th>\n",
       "      <th>Ma12</th>\n",
       "      <th>Month</th>\n",
       "      <th>Year</th>\n",
       "    </tr>\n",
       "  </thead>\n",
       "  <tbody>\n",
       "    <tr>\n",
       "      <th>0</th>\n",
       "      <td>Thandla</td>\n",
       "      <td>2022-01-02</td>\n",
       "      <td>2.40</td>\n",
       "      <td>3500</td>\n",
       "      <td>20220102</td>\n",
       "      <td>NaN</td>\n",
       "      <td>NaN</td>\n",
       "      <td>1</td>\n",
       "      <td>2022</td>\n",
       "    </tr>\n",
       "    <tr>\n",
       "      <th>1</th>\n",
       "      <td>Thandla</td>\n",
       "      <td>2022-01-03</td>\n",
       "      <td>3.00</td>\n",
       "      <td>3500</td>\n",
       "      <td>20220103</td>\n",
       "      <td>NaN</td>\n",
       "      <td>NaN</td>\n",
       "      <td>1</td>\n",
       "      <td>2022</td>\n",
       "    </tr>\n",
       "    <tr>\n",
       "      <th>2</th>\n",
       "      <td>Thandla</td>\n",
       "      <td>2022-01-04</td>\n",
       "      <td>3.00</td>\n",
       "      <td>3500</td>\n",
       "      <td>20220104</td>\n",
       "      <td>NaN</td>\n",
       "      <td>NaN</td>\n",
       "      <td>1</td>\n",
       "      <td>2022</td>\n",
       "    </tr>\n",
       "    <tr>\n",
       "      <th>3</th>\n",
       "      <td>Thandla</td>\n",
       "      <td>2022-01-05</td>\n",
       "      <td>3.00</td>\n",
       "      <td>3500</td>\n",
       "      <td>20220105</td>\n",
       "      <td>NaN</td>\n",
       "      <td>NaN</td>\n",
       "      <td>1</td>\n",
       "      <td>2022</td>\n",
       "    </tr>\n",
       "    <tr>\n",
       "      <th>4</th>\n",
       "      <td>Thandla</td>\n",
       "      <td>2022-01-06</td>\n",
       "      <td>3.00</td>\n",
       "      <td>3500</td>\n",
       "      <td>20220106</td>\n",
       "      <td>NaN</td>\n",
       "      <td>NaN</td>\n",
       "      <td>1</td>\n",
       "      <td>2022</td>\n",
       "    </tr>\n",
       "    <tr>\n",
       "      <th>...</th>\n",
       "      <td>...</td>\n",
       "      <td>...</td>\n",
       "      <td>...</td>\n",
       "      <td>...</td>\n",
       "      <td>...</td>\n",
       "      <td>...</td>\n",
       "      <td>...</td>\n",
       "      <td>...</td>\n",
       "      <td>...</td>\n",
       "    </tr>\n",
       "    <tr>\n",
       "      <th>419</th>\n",
       "      <td>Thandla</td>\n",
       "      <td>2023-04-26</td>\n",
       "      <td>0.12</td>\n",
       "      <td>1800</td>\n",
       "      <td>20230426</td>\n",
       "      <td>1693.333333</td>\n",
       "      <td>1800.0</td>\n",
       "      <td>4</td>\n",
       "      <td>2023</td>\n",
       "    </tr>\n",
       "    <tr>\n",
       "      <th>420</th>\n",
       "      <td>Thandla</td>\n",
       "      <td>2023-04-27</td>\n",
       "      <td>0.13</td>\n",
       "      <td>1800</td>\n",
       "      <td>20230427</td>\n",
       "      <td>1720.000000</td>\n",
       "      <td>1800.0</td>\n",
       "      <td>4</td>\n",
       "      <td>2023</td>\n",
       "    </tr>\n",
       "    <tr>\n",
       "      <th>421</th>\n",
       "      <td>Thandla</td>\n",
       "      <td>2023-04-28</td>\n",
       "      <td>0.15</td>\n",
       "      <td>1800</td>\n",
       "      <td>20230428</td>\n",
       "      <td>1746.666667</td>\n",
       "      <td>1800.0</td>\n",
       "      <td>4</td>\n",
       "      <td>2023</td>\n",
       "    </tr>\n",
       "    <tr>\n",
       "      <th>422</th>\n",
       "      <td>Thandla</td>\n",
       "      <td>2023-04-29</td>\n",
       "      <td>0.11</td>\n",
       "      <td>1800</td>\n",
       "      <td>20230429</td>\n",
       "      <td>1773.333333</td>\n",
       "      <td>1800.0</td>\n",
       "      <td>4</td>\n",
       "      <td>2023</td>\n",
       "    </tr>\n",
       "    <tr>\n",
       "      <th>423</th>\n",
       "      <td>Thandla</td>\n",
       "      <td>2023-04-30</td>\n",
       "      <td>0.12</td>\n",
       "      <td>1800</td>\n",
       "      <td>20230430</td>\n",
       "      <td>1800.000000</td>\n",
       "      <td>1800.0</td>\n",
       "      <td>4</td>\n",
       "      <td>2023</td>\n",
       "    </tr>\n",
       "  </tbody>\n",
       "</table>\n",
       "<p>424 rows × 9 columns</p>\n",
       "</div>"
      ],
      "text/plain": [
       "      Market Arrival Date  Arrivals (Tonnes) Modal Price(Rs./Quintal)  \\\n",
       "0    Thandla   2022-01-02               2.40                     3500   \n",
       "1    Thandla   2022-01-03               3.00                     3500   \n",
       "2    Thandla   2022-01-04               3.00                     3500   \n",
       "3    Thandla   2022-01-05               3.00                     3500   \n",
       "4    Thandla   2022-01-06               3.00                     3500   \n",
       "..       ...          ...                ...                      ...   \n",
       "419  Thandla   2023-04-26               0.12                     1800   \n",
       "420  Thandla   2023-04-27               0.13                     1800   \n",
       "421  Thandla   2023-04-28               0.15                     1800   \n",
       "422  Thandla   2023-04-29               0.11                     1800   \n",
       "423  Thandla   2023-04-30               0.12                     1800   \n",
       "\n",
       "     Datereal         Ma30    Ma12  Month  Year  \n",
       "0    20220102          NaN     NaN      1  2022  \n",
       "1    20220103          NaN     NaN      1  2022  \n",
       "2    20220104          NaN     NaN      1  2022  \n",
       "3    20220105          NaN     NaN      1  2022  \n",
       "4    20220106          NaN     NaN      1  2022  \n",
       "..        ...          ...     ...    ...   ...  \n",
       "419  20230426  1693.333333  1800.0      4  2023  \n",
       "420  20230427  1720.000000  1800.0      4  2023  \n",
       "421  20230428  1746.666667  1800.0      4  2023  \n",
       "422  20230429  1773.333333  1800.0      4  2023  \n",
       "423  20230430  1800.000000  1800.0      4  2023  \n",
       "\n",
       "[424 rows x 9 columns]"
      ]
     },
     "execution_count": 361,
     "metadata": {},
     "output_type": "execute_result"
    }
   ],
   "source": [
    "mydata"
   ]
  },
  {
   "cell_type": "code",
   "execution_count": null,
   "metadata": {},
   "outputs": [],
   "source": [
    "mydata['Series'] = np.arange(1,len(mydata)+1)"
   ]
  },
  {
   "cell_type": "code",
   "execution_count": null,
   "metadata": {},
   "outputs": [
    {
     "data": {
      "text/html": [
       "<div>\n",
       "<style scoped>\n",
       "    .dataframe tbody tr th:only-of-type {\n",
       "        vertical-align: middle;\n",
       "    }\n",
       "\n",
       "    .dataframe tbody tr th {\n",
       "        vertical-align: top;\n",
       "    }\n",
       "\n",
       "    .dataframe thead th {\n",
       "        text-align: right;\n",
       "    }\n",
       "</style>\n",
       "<table border=\"1\" class=\"dataframe\">\n",
       "  <thead>\n",
       "    <tr style=\"text-align: right;\">\n",
       "      <th></th>\n",
       "      <th>Market</th>\n",
       "      <th>Arrival Date</th>\n",
       "      <th>Arrivals (Tonnes)</th>\n",
       "      <th>Modal Price(Rs./Quintal)</th>\n",
       "      <th>Datereal</th>\n",
       "      <th>Ma30</th>\n",
       "      <th>Ma12</th>\n",
       "      <th>Month</th>\n",
       "      <th>Year</th>\n",
       "      <th>Series</th>\n",
       "    </tr>\n",
       "  </thead>\n",
       "  <tbody>\n",
       "    <tr>\n",
       "      <th>0</th>\n",
       "      <td>Thandla</td>\n",
       "      <td>2022-01-02</td>\n",
       "      <td>2.40</td>\n",
       "      <td>3500</td>\n",
       "      <td>20220102</td>\n",
       "      <td>NaN</td>\n",
       "      <td>NaN</td>\n",
       "      <td>1</td>\n",
       "      <td>2022</td>\n",
       "      <td>1</td>\n",
       "    </tr>\n",
       "    <tr>\n",
       "      <th>1</th>\n",
       "      <td>Thandla</td>\n",
       "      <td>2022-01-03</td>\n",
       "      <td>3.00</td>\n",
       "      <td>3500</td>\n",
       "      <td>20220103</td>\n",
       "      <td>NaN</td>\n",
       "      <td>NaN</td>\n",
       "      <td>1</td>\n",
       "      <td>2022</td>\n",
       "      <td>2</td>\n",
       "    </tr>\n",
       "    <tr>\n",
       "      <th>2</th>\n",
       "      <td>Thandla</td>\n",
       "      <td>2022-01-04</td>\n",
       "      <td>3.00</td>\n",
       "      <td>3500</td>\n",
       "      <td>20220104</td>\n",
       "      <td>NaN</td>\n",
       "      <td>NaN</td>\n",
       "      <td>1</td>\n",
       "      <td>2022</td>\n",
       "      <td>3</td>\n",
       "    </tr>\n",
       "    <tr>\n",
       "      <th>3</th>\n",
       "      <td>Thandla</td>\n",
       "      <td>2022-01-05</td>\n",
       "      <td>3.00</td>\n",
       "      <td>3500</td>\n",
       "      <td>20220105</td>\n",
       "      <td>NaN</td>\n",
       "      <td>NaN</td>\n",
       "      <td>1</td>\n",
       "      <td>2022</td>\n",
       "      <td>4</td>\n",
       "    </tr>\n",
       "    <tr>\n",
       "      <th>4</th>\n",
       "      <td>Thandla</td>\n",
       "      <td>2022-01-06</td>\n",
       "      <td>3.00</td>\n",
       "      <td>3500</td>\n",
       "      <td>20220106</td>\n",
       "      <td>NaN</td>\n",
       "      <td>NaN</td>\n",
       "      <td>1</td>\n",
       "      <td>2022</td>\n",
       "      <td>5</td>\n",
       "    </tr>\n",
       "    <tr>\n",
       "      <th>...</th>\n",
       "      <td>...</td>\n",
       "      <td>...</td>\n",
       "      <td>...</td>\n",
       "      <td>...</td>\n",
       "      <td>...</td>\n",
       "      <td>...</td>\n",
       "      <td>...</td>\n",
       "      <td>...</td>\n",
       "      <td>...</td>\n",
       "      <td>...</td>\n",
       "    </tr>\n",
       "    <tr>\n",
       "      <th>419</th>\n",
       "      <td>Thandla</td>\n",
       "      <td>2023-04-26</td>\n",
       "      <td>0.12</td>\n",
       "      <td>1800</td>\n",
       "      <td>20230426</td>\n",
       "      <td>1693.333333</td>\n",
       "      <td>1800.0</td>\n",
       "      <td>4</td>\n",
       "      <td>2023</td>\n",
       "      <td>420</td>\n",
       "    </tr>\n",
       "    <tr>\n",
       "      <th>420</th>\n",
       "      <td>Thandla</td>\n",
       "      <td>2023-04-27</td>\n",
       "      <td>0.13</td>\n",
       "      <td>1800</td>\n",
       "      <td>20230427</td>\n",
       "      <td>1720.000000</td>\n",
       "      <td>1800.0</td>\n",
       "      <td>4</td>\n",
       "      <td>2023</td>\n",
       "      <td>421</td>\n",
       "    </tr>\n",
       "    <tr>\n",
       "      <th>421</th>\n",
       "      <td>Thandla</td>\n",
       "      <td>2023-04-28</td>\n",
       "      <td>0.15</td>\n",
       "      <td>1800</td>\n",
       "      <td>20230428</td>\n",
       "      <td>1746.666667</td>\n",
       "      <td>1800.0</td>\n",
       "      <td>4</td>\n",
       "      <td>2023</td>\n",
       "      <td>422</td>\n",
       "    </tr>\n",
       "    <tr>\n",
       "      <th>422</th>\n",
       "      <td>Thandla</td>\n",
       "      <td>2023-04-29</td>\n",
       "      <td>0.11</td>\n",
       "      <td>1800</td>\n",
       "      <td>20230429</td>\n",
       "      <td>1773.333333</td>\n",
       "      <td>1800.0</td>\n",
       "      <td>4</td>\n",
       "      <td>2023</td>\n",
       "      <td>423</td>\n",
       "    </tr>\n",
       "    <tr>\n",
       "      <th>423</th>\n",
       "      <td>Thandla</td>\n",
       "      <td>2023-04-30</td>\n",
       "      <td>0.12</td>\n",
       "      <td>1800</td>\n",
       "      <td>20230430</td>\n",
       "      <td>1800.000000</td>\n",
       "      <td>1800.0</td>\n",
       "      <td>4</td>\n",
       "      <td>2023</td>\n",
       "      <td>424</td>\n",
       "    </tr>\n",
       "  </tbody>\n",
       "</table>\n",
       "<p>424 rows × 10 columns</p>\n",
       "</div>"
      ],
      "text/plain": [
       "      Market Arrival Date  Arrivals (Tonnes) Modal Price(Rs./Quintal)  \\\n",
       "0    Thandla   2022-01-02               2.40                     3500   \n",
       "1    Thandla   2022-01-03               3.00                     3500   \n",
       "2    Thandla   2022-01-04               3.00                     3500   \n",
       "3    Thandla   2022-01-05               3.00                     3500   \n",
       "4    Thandla   2022-01-06               3.00                     3500   \n",
       "..       ...          ...                ...                      ...   \n",
       "419  Thandla   2023-04-26               0.12                     1800   \n",
       "420  Thandla   2023-04-27               0.13                     1800   \n",
       "421  Thandla   2023-04-28               0.15                     1800   \n",
       "422  Thandla   2023-04-29               0.11                     1800   \n",
       "423  Thandla   2023-04-30               0.12                     1800   \n",
       "\n",
       "     Datereal         Ma30    Ma12  Month  Year  Series  \n",
       "0    20220102          NaN     NaN      1  2022       1  \n",
       "1    20220103          NaN     NaN      1  2022       2  \n",
       "2    20220104          NaN     NaN      1  2022       3  \n",
       "3    20220105          NaN     NaN      1  2022       4  \n",
       "4    20220106          NaN     NaN      1  2022       5  \n",
       "..        ...          ...     ...    ...   ...     ...  \n",
       "419  20230426  1693.333333  1800.0      4  2023     420  \n",
       "420  20230427  1720.000000  1800.0      4  2023     421  \n",
       "421  20230428  1746.666667  1800.0      4  2023     422  \n",
       "422  20230429  1773.333333  1800.0      4  2023     423  \n",
       "423  20230430  1800.000000  1800.0      4  2023     424  \n",
       "\n",
       "[424 rows x 10 columns]"
      ]
     },
     "execution_count": 363,
     "metadata": {},
     "output_type": "execute_result"
    }
   ],
   "source": [
    "mydata"
   ]
  },
  {
   "cell_type": "code",
   "execution_count": null,
   "metadata": {},
   "outputs": [],
   "source": [
    "mydata.drop([ 'Ma12','Ma30'], axis=1, inplace=True)"
   ]
  },
  {
   "cell_type": "code",
   "execution_count": null,
   "metadata": {},
   "outputs": [
    {
     "data": {
      "text/html": [
       "<div>\n",
       "<style scoped>\n",
       "    .dataframe tbody tr th:only-of-type {\n",
       "        vertical-align: middle;\n",
       "    }\n",
       "\n",
       "    .dataframe tbody tr th {\n",
       "        vertical-align: top;\n",
       "    }\n",
       "\n",
       "    .dataframe thead th {\n",
       "        text-align: right;\n",
       "    }\n",
       "</style>\n",
       "<table border=\"1\" class=\"dataframe\">\n",
       "  <thead>\n",
       "    <tr style=\"text-align: right;\">\n",
       "      <th></th>\n",
       "      <th>Market</th>\n",
       "      <th>Arrival Date</th>\n",
       "      <th>Arrivals (Tonnes)</th>\n",
       "      <th>Modal Price(Rs./Quintal)</th>\n",
       "      <th>Datereal</th>\n",
       "      <th>Month</th>\n",
       "      <th>Year</th>\n",
       "      <th>Series</th>\n",
       "    </tr>\n",
       "  </thead>\n",
       "  <tbody>\n",
       "    <tr>\n",
       "      <th>0</th>\n",
       "      <td>Thandla</td>\n",
       "      <td>2022-01-02</td>\n",
       "      <td>2.40</td>\n",
       "      <td>3500</td>\n",
       "      <td>20220102</td>\n",
       "      <td>1</td>\n",
       "      <td>2022</td>\n",
       "      <td>1</td>\n",
       "    </tr>\n",
       "    <tr>\n",
       "      <th>1</th>\n",
       "      <td>Thandla</td>\n",
       "      <td>2022-01-03</td>\n",
       "      <td>3.00</td>\n",
       "      <td>3500</td>\n",
       "      <td>20220103</td>\n",
       "      <td>1</td>\n",
       "      <td>2022</td>\n",
       "      <td>2</td>\n",
       "    </tr>\n",
       "    <tr>\n",
       "      <th>2</th>\n",
       "      <td>Thandla</td>\n",
       "      <td>2022-01-04</td>\n",
       "      <td>3.00</td>\n",
       "      <td>3500</td>\n",
       "      <td>20220104</td>\n",
       "      <td>1</td>\n",
       "      <td>2022</td>\n",
       "      <td>3</td>\n",
       "    </tr>\n",
       "    <tr>\n",
       "      <th>3</th>\n",
       "      <td>Thandla</td>\n",
       "      <td>2022-01-05</td>\n",
       "      <td>3.00</td>\n",
       "      <td>3500</td>\n",
       "      <td>20220105</td>\n",
       "      <td>1</td>\n",
       "      <td>2022</td>\n",
       "      <td>4</td>\n",
       "    </tr>\n",
       "    <tr>\n",
       "      <th>4</th>\n",
       "      <td>Thandla</td>\n",
       "      <td>2022-01-06</td>\n",
       "      <td>3.00</td>\n",
       "      <td>3500</td>\n",
       "      <td>20220106</td>\n",
       "      <td>1</td>\n",
       "      <td>2022</td>\n",
       "      <td>5</td>\n",
       "    </tr>\n",
       "    <tr>\n",
       "      <th>...</th>\n",
       "      <td>...</td>\n",
       "      <td>...</td>\n",
       "      <td>...</td>\n",
       "      <td>...</td>\n",
       "      <td>...</td>\n",
       "      <td>...</td>\n",
       "      <td>...</td>\n",
       "      <td>...</td>\n",
       "    </tr>\n",
       "    <tr>\n",
       "      <th>419</th>\n",
       "      <td>Thandla</td>\n",
       "      <td>2023-04-26</td>\n",
       "      <td>0.12</td>\n",
       "      <td>1800</td>\n",
       "      <td>20230426</td>\n",
       "      <td>4</td>\n",
       "      <td>2023</td>\n",
       "      <td>420</td>\n",
       "    </tr>\n",
       "    <tr>\n",
       "      <th>420</th>\n",
       "      <td>Thandla</td>\n",
       "      <td>2023-04-27</td>\n",
       "      <td>0.13</td>\n",
       "      <td>1800</td>\n",
       "      <td>20230427</td>\n",
       "      <td>4</td>\n",
       "      <td>2023</td>\n",
       "      <td>421</td>\n",
       "    </tr>\n",
       "    <tr>\n",
       "      <th>421</th>\n",
       "      <td>Thandla</td>\n",
       "      <td>2023-04-28</td>\n",
       "      <td>0.15</td>\n",
       "      <td>1800</td>\n",
       "      <td>20230428</td>\n",
       "      <td>4</td>\n",
       "      <td>2023</td>\n",
       "      <td>422</td>\n",
       "    </tr>\n",
       "    <tr>\n",
       "      <th>422</th>\n",
       "      <td>Thandla</td>\n",
       "      <td>2023-04-29</td>\n",
       "      <td>0.11</td>\n",
       "      <td>1800</td>\n",
       "      <td>20230429</td>\n",
       "      <td>4</td>\n",
       "      <td>2023</td>\n",
       "      <td>423</td>\n",
       "    </tr>\n",
       "    <tr>\n",
       "      <th>423</th>\n",
       "      <td>Thandla</td>\n",
       "      <td>2023-04-30</td>\n",
       "      <td>0.12</td>\n",
       "      <td>1800</td>\n",
       "      <td>20230430</td>\n",
       "      <td>4</td>\n",
       "      <td>2023</td>\n",
       "      <td>424</td>\n",
       "    </tr>\n",
       "  </tbody>\n",
       "</table>\n",
       "<p>424 rows × 8 columns</p>\n",
       "</div>"
      ],
      "text/plain": [
       "      Market Arrival Date  Arrivals (Tonnes) Modal Price(Rs./Quintal)  \\\n",
       "0    Thandla   2022-01-02               2.40                     3500   \n",
       "1    Thandla   2022-01-03               3.00                     3500   \n",
       "2    Thandla   2022-01-04               3.00                     3500   \n",
       "3    Thandla   2022-01-05               3.00                     3500   \n",
       "4    Thandla   2022-01-06               3.00                     3500   \n",
       "..       ...          ...                ...                      ...   \n",
       "419  Thandla   2023-04-26               0.12                     1800   \n",
       "420  Thandla   2023-04-27               0.13                     1800   \n",
       "421  Thandla   2023-04-28               0.15                     1800   \n",
       "422  Thandla   2023-04-29               0.11                     1800   \n",
       "423  Thandla   2023-04-30               0.12                     1800   \n",
       "\n",
       "     Datereal  Month  Year  Series  \n",
       "0    20220102      1  2022       1  \n",
       "1    20220103      1  2022       2  \n",
       "2    20220104      1  2022       3  \n",
       "3    20220105      1  2022       4  \n",
       "4    20220106      1  2022       5  \n",
       "..        ...    ...   ...     ...  \n",
       "419  20230426      4  2023     420  \n",
       "420  20230427      4  2023     421  \n",
       "421  20230428      4  2023     422  \n",
       "422  20230429      4  2023     423  \n",
       "423  20230430      4  2023     424  \n",
       "\n",
       "[424 rows x 8 columns]"
      ]
     },
     "execution_count": 365,
     "metadata": {},
     "output_type": "execute_result"
    }
   ],
   "source": [
    "mydata"
   ]
  },
  {
   "cell_type": "code",
   "execution_count": null,
   "metadata": {},
   "outputs": [],
   "source": [
    "train = mydata[mydata['Year'] == 2022]\n",
    "test = mydata[mydata['Year'] == 2023]"
   ]
  },
  {
   "cell_type": "markdown",
   "metadata": {},
   "source": []
  },
  {
   "cell_type": "code",
   "execution_count": null,
   "metadata": {},
   "outputs": [
    {
     "data": {
      "text/plain": [
       "((308, 8), (116, 8))"
      ]
     },
     "execution_count": 367,
     "metadata": {},
     "output_type": "execute_result"
    }
   ],
   "source": [
    "train.shape, test.shape"
   ]
  },
  {
   "cell_type": "code",
   "execution_count": null,
   "metadata": {},
   "outputs": [],
   "source": [
    "from pycaret.regression import *"
   ]
  },
  {
   "cell_type": "markdown",
   "metadata": {},
   "source": [
    " so i am unable to use pycaret right now since it is giving error as it supports only in python version 3.9 and below and i tried lowering still it is giving error so i will try it in virtual env but i think it installed after some working\n"
   ]
  },
  {
   "cell_type": "code",
   "execution_count": null,
   "metadata": {},
   "outputs": [],
   "source": [
    "# s = setup(data = train, target = 'Modal Price(Rs./Quintal)',  session_id = 123)"
   ]
  },
  {
   "cell_type": "markdown",
   "metadata": {},
   "source": [
    "## this is different approach"
   ]
  },
  {
   "cell_type": "code",
   "execution_count": 26,
   "metadata": {},
   "outputs": [],
   "source": [
    "newdata = mydata.drop('Market',axis=1)"
   ]
  },
  {
   "cell_type": "code",
   "execution_count": 27,
   "metadata": {},
   "outputs": [],
   "source": [
    "newdata['Modal Price(Rs./Quintal)'] = newdata['Modal Price(Rs./Quintal)'].astype(str).astype(int)\n",
    "newdata['Datereal'] = newdata['Datereal'].astype(str).astype(int)\n"
   ]
  },
  {
   "cell_type": "code",
   "execution_count": 28,
   "metadata": {},
   "outputs": [
    {
     "data": {
      "text/plain": [
       "Arrival Date                datetime64[ns]\n",
       "Arrivals (Tonnes)                  float64\n",
       "Modal Price(Rs./Quintal)             int32\n",
       "Datereal                             int32\n",
       "Ma30                               float64\n",
       "Ma12                               float64\n",
       "dtype: object"
      ]
     },
     "execution_count": 28,
     "metadata": {},
     "output_type": "execute_result"
    }
   ],
   "source": [
    "newdata.dtypes"
   ]
  },
  {
   "cell_type": "code",
   "execution_count": 29,
   "metadata": {},
   "outputs": [
    {
     "data": {
      "image/png": "[encoded data removed]",
      "text/plain": [
       "<Figure size 640x480 with 1 Axes>"
      ]
     },
     "metadata": {},
     "output_type": "display_data"
    }
   ],
   "source": [
    "ply.xlabel('Date')\n",
    "ply.ylabel('Price')\n",
    "indexdataset = newdata.set_index(['Arrival Date'])"
   ]
  },
  {
   "cell_type": "code",
   "execution_count": 33,
   "metadata": {},
   "outputs": [
    {
     "data": {
      "text/plain": [
       "0"
      ]
     },
     "execution_count": 33,
     "metadata": {},
     "output_type": "execute_result"
    }
   ],
   "source": [
    "indexdataset\n",
    "indexdatasetnew = indexdataset['Modal Price(Rs./Quintal)']\n",
    "indexdatasetnew.isna().sum()"
   ]
  },
  {
   "cell_type": "code",
   "execution_count": null,
   "metadata": {},
   "outputs": [
    {
     "data": {
      "application/vnd.plotly.v1+json": {
       "config": {
        "plotlyServerURL": "https://plot.ly"
       },
       "data": [
        {
         "hovertemplate": "Datereal=%{x}<br>Arrivals (Tonnes)=%{y}<extra></extra>",
         "legendgroup": "",
         "line": {
          "color": "#636efa",
          "dash": "solid"
         },
         "marker": {
          "symbol": "circle"
         },
         "mode": "lines",
         "name": "",
         "orientation": "v",
         "showlegend": false,
         "type": "scatter",
         "x": [
          "20220102",
          "20220103",
          "20220104",
          "20220105",
          "20220106",
          "20220107",
          "20220108",
          "20220109",
          "20220110",
          "20220111",
          "20220112",
          "20220113",
          "20220114",
          "20220115",
          "20220116",
          "20220117",
          "20220118",
          "20220119",
          "20220120",
          "20220121",
          "20220122",
          "20220123",
          "20220124",
          "20220125",
          "20220126",
          "20220127",
          "20220128",
          "20220129",
          "20220130",
          "20220131",
          "20220201",
          "20220202",
          "20220203",
          "20220204",
          "20220205",
          "20220206",
          "20220207",
          "20220208",
          "20220209",
          "20220210",
          "20220211",
          "20220212",
          "20220213",
          "20220214",
          "20220215",
          "20220216",
          "20220217",
          "20220218",
          "20220219",
          "20220220",
          "20220221",
          "20220222",
          "20220223",
          "20220224",
          "20220225",
          "20220226",
          "20220227",
          "20220228",
          "20220301",
          "20220302",
          "20220303",
          "20220305",
          "20220306",
          "20220307",
          "20220308",
          "20220309",
          "20220310",
          "20220311",
          "20220312",
          "20220313",
          "20220314",
          "20220315",
          "20220316",
          "20220319",
          "20220320",
          "20220321",
          "20220322",
          "20220323",
          "20220324",
          "20220325",
          "20220326",
          "20220327",
          "20220328",
          "20220329",
          "20220330",
          "20220331",
          "20220401",
          "20220402",
          "20220403",
          "20220404",
          "20220405",
          "20220406",
          "20220408",
          "20220409",
          "20220410",
          "20220411",
          "20220413",
          "20220414",
          "20220415",
          "20220416",
          "20220417",
          "20220418",
          "20220419",
          "20220420",
          "20220421",
          "20220422",
          "20220508",
          "20220509",
          "20220510",
          "20220511",
          "20220512",
          "20220513",
          "20220514",
          "20220515",
          "20220516",
          "20220517",
          "20220518",
          "20220519",
          "20220520",
          "20220521",
          "20220522",
          "20220523",
          "20220524",
          "20220525",
          "20220527",
          "20220528",
          "20220529",
          "20220530",
          "20220531",
          "20220701",
          "20220702",
          "20220703",
          "20220704",
          "20220705",
          "20220706",
          "20220707",
          "20220708",
          "20220709",
          "20220710",
          "20220711",
          "20220712",
          "20220713",
          "20220714",
          "20220715",
          "20220716",
          "20220717",
          "20220718",
          "20220719",
          "20220720",
          "20220721",
          "20220722",
          "20220723",
          "20220724",
          "20220725",
          "20220726",
          "20220727",
          "20220728",
          "20220729",
          "20220730",
          "20220731",
          "20220801",
          "20220802",
          "20220803",
          "20220804",
          "20220805",
          "20220806",
          "20220807",
          "20220808",
          "20220809",
          "20220810",
          "20220811",
          "20220812",
          "20220813",
          "20220814",
          "20220815",
          "20220816",
          "20220817",
          "20220818",
          "20220819",
          "20220820",
          "20220821",
          "20220822",
          "20220823",
          "20220824",
          "20220825",
          "20220826",
          "20220827",
          "20220828",
          "20220829",
          "20220830",
          "20220831",
          "20220901",
          "20220902",
          "20220903",
          "20220904",
          "20220905",
          "20220906",
          "20220907",
          "20220908",
          "20220909",
          "20220910",
          "20220911",
          "20220913",
          "20220914",
          "20220915",
          "20220916",
          "20220917",
          "20220918",
          "20220919",
          "20220920",
          "20220921",
          "20220922",
          "20220923",
          "20220924",
          "20220925",
          "20220926",
          "20220927",
          "20220928",
          "20220929",
          "20220930",
          "20221001",
          "20221002",
          "20221003",
          "20221004",
          "20221005",
          "20221006",
          "20221007",
          "20221008",
          "20221009",
          "20221010",
          "20221011",
          "20221012",
          "20221013",
          "20221015",
          "20221016",
          "20221017",
          "20221018",
          "20221019",
          "20221020",
          "20221022",
          "20221023",
          "20221024",
          "20221025",
          "20221026",
          "20221027",
          "20221028",
          "20221029",
          "20221030",
          "20221031",
          "20221101",
          "20221102",
          "20221103",
          "20221104",
          "20221105",
          "20221106",
          "20221107",
          "20221108",
          "20221109",
          "20221110",
          "20221111",
          "20221112",
          "20221113",
          "20221114",
          "20221115",
          "20221116",
          "20221117",
          "20221118",
          "20221119",
          "20221120",
          "20221121",
          "20221122",
          "20221123",
          "20221124",
          "20221126",
          "20221127",
          "20221128",
          "20221129",
          "20221130",
          "20221201",
          "20221202",
          "20221203",
          "20221204",
          "20221205",
          "20221206",
          "20221207",
          "20221208",
          "20221209",
          "20221210",
          "20221211",
          "20221212",
          "20221213",
          "20221214",
          "20221215",
          "20221216",
          "20221217",
          "20221218",
          "20221219",
          "20221221",
          "20221222",
          "20221223",
          "20221224",
          "20221225",
          "20221226",
          "20221227",
          "20221228",
          "20221229",
          "20221230",
          "20221231",
          "20230101",
          "20230102",
          "20230103",
          "20230104",
          "20230105",
          "20230106",
          "20230107",
          "20230108",
          "20230109",
          "20230110",
          "20230111",
          "20230112",
          "20230113",
          "20230114",
          "20230115",
          "20230116",
          "20230117",
          "20230118",
          "20230119",
          "20230120",
          "20230121",
          "20230122",
          "20230123",
          "20230124",
          "20230125",
          "20230126",
          "20230127",
          "20230128",
          "20230129",
          "20230130",
          "20230131",
          "20230201",
          "20230202",
          "20230203",
          "20230204",
          "20230205",
          "20230206",
          "20230207",
          "20230208",
          "20230209",
          "20230210",
          "20230211",
          "20230212",
          "20230213",
          "20230214",
          "20230215",
          "20230216",
          "20230217",
          "20230218",
          "20230219",
          "20230220",
          "20230221",
          "20230222",
          "20230223",
          "20230224",
          "20230225",
          "20230226",
          "20230227",
          "20230228",
          "20230301",
          "20230302",
          "20230306",
          "20230307",
          "20230309",
          "20230310",
          "20230311",
          "20230312",
          "20230313",
          "20230314",
          "20230315",
          "20230316",
          "20230317",
          "20230318",
          "20230319",
          "20230320",
          "20230321",
          "20230322",
          "20230323",
          "20230324",
          "20230325",
          "20230326",
          "20230327",
          "20230328",
          "20230329",
          "20230330",
          "20230331",
          "20230401",
          "20230402",
          "20230403",
          "20230404",
          "20230405",
          "20230406",
          "20230407",
          "20230408",
          "20230409",
          "20230410",
          "20230411",
          "20230412",
          "20230413",
          "20230414",
          "20230415",
          "20230416",
          "20230417",
          "20230418",
          "20230419",
          "20230420",
          "20230421",
          "20230422",
          "20230423",
          "20230424",
          "20230425",
          "20230426",
          "20230427",
          "20230428",
          "20230429",
          "20230430"
         ],
         "xaxis": "x",
         "y": [
          2.4,
          3,
          3,
          3,
          3,
          2.4,
          4.1,
          3,
          4,
          1.9,
          8.2,
          1.5,
          1.5,
          1.5,
          1.5,
          1,
          1,
          1.5,
          8.2,
          4,
          1.5,
          1.5,
          1,
          1,
          1.5,
          2.2,
          2,
          2,
          1.9,
          2,
          2,
          2,
          2,
          2,
          2,
          2,
          2,
          1.8,
          2,
          1.8,
          2.2,
          1.8,
          2.1,
          2.1,
          1.8,
          2.2,
          1.8,
          1.9,
          1.7,
          1.9,
          1.5,
          1.6,
          1.5,
          1.5,
          2,
          2.2,
          1.8,
          1.9,
          1.9,
          1.9,
          1.9,
          1.6,
          1.8,
          1.4,
          1.5,
          1.5,
          1.4,
          1.5,
          1.6,
          1.5,
          1.6,
          1.6,
          1.5,
          1.5,
          1.6,
          1.6,
          1.6,
          1.6,
          1.6,
          1.6,
          1.6,
          1.6,
          1.6,
          1.2,
          1.1,
          1,
          1,
          1,
          1.1,
          1.2,
          1.2,
          1.2,
          1,
          1,
          1,
          1,
          1.2,
          1.2,
          2,
          1.9,
          1.9,
          2,
          1.8,
          1.7,
          2.1,
          2.2,
          0.28,
          0.25,
          0.22,
          0.2,
          0.2,
          0.22,
          0.21,
          0.23,
          0.21,
          2.2,
          2,
          2.1,
          2,
          2.2,
          2.3,
          2.1,
          2,
          2.5,
          2.8,
          3.2,
          2.5,
          2.8,
          2.5,
          1.5,
          1.3,
          1.4,
          1.3,
          1.4,
          1.3,
          1.2,
          1.3,
          1.3,
          1.5,
          1.2,
          1.3,
          1.5,
          1.3,
          1.2,
          1.1,
          1.3,
          1.2,
          1.3,
          1,
          1.3,
          1.2,
          1.1,
          1.4,
          1.5,
          1.6,
          1.3,
          1.4,
          1.5,
          1.5,
          1.5,
          1.3,
          1.5,
          1.3,
          1.4,
          1.2,
          1.1,
          1,
          1.1,
          1.2,
          1.1,
          1.2,
          1.1,
          1,
          1.2,
          1.1,
          1.2,
          1,
          1.1,
          1.2,
          1.1,
          1.2,
          1.1,
          1,
          1.1,
          1,
          1.1,
          1.1,
          1,
          1.1,
          1.2,
          1.1,
          1.5,
          1.3,
          1.1,
          1.5,
          1.3,
          1.2,
          1.5,
          1.3,
          1.2,
          1.1,
          1.5,
          1,
          1.1,
          1,
          1.3,
          1.1,
          1,
          1.1,
          1.3,
          1.6,
          1.8,
          1.5,
          1.3,
          1.1,
          1.2,
          1.1,
          1.2,
          1.1,
          1.4,
          1.4,
          1.5,
          1.6,
          1.5,
          1.4,
          1.3,
          1.2,
          1.3,
          1.5,
          1.4,
          1.3,
          1.2,
          1.3,
          0.13,
          0.14,
          1.5,
          1.6,
          1.5,
          1.5,
          1.2,
          1.2,
          1.1,
          1.6,
          1.8,
          1.6,
          1.3,
          1.4,
          1.2,
          1.3,
          1.5,
          1.6,
          1.8,
          2,
          2,
          1.8,
          1.8,
          2,
          2.5,
          2.8,
          2.5,
          2.4,
          2.5,
          2.2,
          2.6,
          2.3,
          2.1,
          2,
          2,
          2,
          2.1,
          2.2,
          2,
          2.5,
          3.5,
          3.2,
          3.5,
          3.8,
          3.3,
          2.1,
          1.7,
          1.9,
          1.8,
          1.5,
          1.6,
          2,
          2.2,
          1.8,
          2.3,
          2.5,
          3,
          2.8,
          3,
          2.8,
          3.1,
          2.5,
          3,
          3,
          2.5,
          2.8,
          2,
          2,
          2,
          2.1,
          4,
          5,
          2.8,
          2.4,
          2.5,
          2.6,
          2.8,
          2.5,
          2.3,
          2.1,
          1.8,
          2.2,
          2.4,
          2.2,
          2,
          1.7,
          1.5,
          1.5,
          1.6,
          1.4,
          1.3,
          1.4,
          1.4,
          1.5,
          1.5,
          1.4,
          1.6,
          1.5,
          1.3,
          1.3,
          1.2,
          1.1,
          1.2,
          1.3,
          1.5,
          1.3,
          1.5,
          1.2,
          1.3,
          1.3,
          1.3,
          1.5,
          1.3,
          1.3,
          1.3,
          1.4,
          1.3,
          1.2,
          1.3,
          1.2,
          1.3,
          1.3,
          1.5,
          1.3,
          1.5,
          1.3,
          1.3,
          1.3,
          1.4,
          1.3,
          1.6,
          1.2,
          1.1,
          1,
          1.2,
          1.3,
          1.4,
          1.3,
          1.8,
          1.2,
          1.3,
          1.5,
          1,
          1.1,
          1.2,
          1.1,
          1.2,
          1.4,
          1.3,
          1.2,
          1.3,
          1.4,
          1.3,
          1.2,
          1.3,
          1.5,
          1.3,
          1.1,
          1.3,
          1.5,
          1.8,
          1.4,
          1.7,
          1.8,
          1.5,
          1.4,
          1.5,
          1.2,
          1.4,
          1.5,
          1.3,
          1.2,
          1.3,
          1.1,
          1.2,
          1.3,
          1.2,
          0.13,
          0.12,
          0.13,
          0.11,
          0.13,
          0.15,
          0.15,
          0.13,
          0.11,
          0.12,
          0.13,
          0.15,
          0.11,
          0.12
         ],
         "yaxis": "y"
        }
       ],
       "layout": {
        "legend": {
         "tracegroupgap": 0
        },
        "margin": {
         "t": 60
        },
        "template": {
         "data": {
          "bar": [
           {
            "error_x": {
             "color": "#f2f5fa"
            },
            "error_y": {
             "color": "#f2f5fa"
            },
            "marker": {
             "line": {
              "color": "rgb(17,17,17)",
              "width": 0.5
             },
             "pattern": {
              "fillmode": "overlay",
              "size": 10,
              "solidity": 0.2
             }
            },
            "type": "bar"
           }
          ],
          "barpolar": [
           {
            "marker": {
             "line": {
              "color": "rgb(17,17,17)",
              "width": 0.5
             },
             "pattern": {
              "fillmode": "overlay",
              "size": 10,
              "solidity": 0.2
             }
            },
            "type": "barpolar"
           }
          ],
          "carpet": [
           {
            "aaxis": {
             "endlinecolor": "#A2B1C6",
             "gridcolor": "#506784",
             "linecolor": "#506784",
             "minorgridcolor": "#506784",
             "startlinecolor": "#A2B1C6"
            },
            "baxis": {
             "endlinecolor": "#A2B1C6",
             "gridcolor": "#506784",
             "linecolor": "#506784",
             "minorgridcolor": "#506784",
             "startlinecolor": "#A2B1C6"
            },
            "type": "carpet"
           }
          ],
          "choropleth": [
           {
            "colorbar": {
             "outlinewidth": 0,
             "ticks": ""
            },
            "type": "choropleth"
           }
          ],
          "contour": [
           {
            "colorbar": {
             "outlinewidth": 0,
             "ticks": ""
            },
            "colorscale": [
             [
              0,
              "#0d0887"
             ],
             [
              0.1111111111111111,
              "#46039f"
             ],
             [
              0.2222222222222222,
              "#7201a8"
             ],
             [
              0.3333333333333333,
              "#9c179e"
             ],
             [
              0.4444444444444444,
              "#bd3786"
             ],
             [
              0.5555555555555556,
              "#d8576b"
             ],
             [
              0.6666666666666666,
              "#ed7953"
             ],
             [
              0.7777777777777778,
              "#fb9f3a"
             ],
             [
              0.8888888888888888,
              "#fdca26"
             ],
             [
              1,
              "#f0f921"
             ]
            ],
            "type": "contour"
           }
          ],
          "contourcarpet": [
           {
            "colorbar": {
             "outlinewidth": 0,
             "ticks": ""
            },
            "type": "contourcarpet"
           }
          ],
          "heatmap": [
           {
            "colorbar": {
             "outlinewidth": 0,
             "ticks": ""
            },
            "colorscale": [
             [
              0,
              "#0d0887"
             ],
             [
              0.1111111111111111,
              "#46039f"
             ],
             [
              0.2222222222222222,
              "#7201a8"
             ],
             [
              0.3333333333333333,
              "#9c179e"
             ],
             [
              0.4444444444444444,
              "#bd3786"
             ],
             [
              0.5555555555555556,
              "#d8576b"
             ],
             [
              0.6666666666666666,
              "#ed7953"
             ],
             [
              0.7777777777777778,
              "#fb9f3a"
             ],
             [
              0.8888888888888888,
              "#fdca26"
             ],
             [
              1,
              "#f0f921"
             ]
            ],
            "type": "heatmap"
           }
          ],
          "heatmapgl": [
           {
            "colorbar": {
             "outlinewidth": 0,
             "ticks": ""
            },
            "colorscale": [
             [
              0,
              "#0d0887"
             ],
             [
              0.1111111111111111,
              "#46039f"
             ],
             [
              0.2222222222222222,
              "#7201a8"
             ],
             [
              0.3333333333333333,
              "#9c179e"
             ],
             [
              0.4444444444444444,
              "#bd3786"
             ],
             [
              0.5555555555555556,
              "#d8576b"
             ],
             [
              0.6666666666666666,
              "#ed7953"
             ],
             [
              0.7777777777777778,
              "#fb9f3a"
             ],
             [
              0.8888888888888888,
              "#fdca26"
             ],
             [
              1,
              "#f0f921"
             ]
            ],
            "type": "heatmapgl"
           }
          ],
          "histogram": [
           {
            "marker": {
             "pattern": {
              "fillmode": "overlay",
              "size": 10,
              "solidity": 0.2
             }
            },
            "type": "histogram"
           }
          ],
          "histogram2d": [
           {
            "colorbar": {
             "outlinewidth": 0,
             "ticks": ""
            },
            "colorscale": [
             [
              0,
              "#0d0887"
             ],
             [
              0.1111111111111111,
              "#46039f"
             ],
             [
              0.2222222222222222,
              "#7201a8"
             ],
             [
              0.3333333333333333,
              "#9c179e"
             ],
             [
              0.4444444444444444,
              "#bd3786"
             ],
             [
              0.5555555555555556,
              "#d8576b"
             ],
             [
              0.6666666666666666,
              "#ed7953"
             ],
             [
              0.7777777777777778,
              "#fb9f3a"
             ],
             [
              0.8888888888888888,
              "#fdca26"
             ],
             [
              1,
              "#f0f921"
             ]
            ],
            "type": "histogram2d"
           }
          ],
          "histogram2dcontour": [
           {
            "colorbar": {
             "outlinewidth": 0,
             "ticks": ""
            },
            "colorscale": [
             [
              0,
              "#0d0887"
             ],
             [
              0.1111111111111111,
              "#46039f"
             ],
             [
              0.2222222222222222,
              "#7201a8"
             ],
             [
              0.3333333333333333,
              "#9c179e"
             ],
             [
              0.4444444444444444,
              "#bd3786"
             ],
             [
              0.5555555555555556,
              "#d8576b"
             ],
             [
              0.6666666666666666,
              "#ed7953"
             ],
             [
              0.7777777777777778,
              "#fb9f3a"
             ],
             [
              0.8888888888888888,
              "#fdca26"
             ],
             [
              1,
              "#f0f921"
             ]
            ],
            "type": "histogram2dcontour"
           }
          ],
          "mesh3d": [
           {
            "colorbar": {
             "outlinewidth": 0,
             "ticks": ""
            },
            "type": "mesh3d"
           }
          ],
          "parcoords": [
           {
            "line": {
             "colorbar": {
              "outlinewidth": 0,
              "ticks": ""
             }
            },
            "type": "parcoords"
           }
          ],
          "pie": [
           {
            "automargin": true,
            "type": "pie"
           }
          ],
          "scatter": [
           {
            "marker": {
             "line": {
              "color": "#283442"
             }
            },
            "type": "scatter"
           }
          ],
          "scatter3d": [
           {
            "line": {
             "colorbar": {
              "outlinewidth": 0,
              "ticks": ""
             }
            },
            "marker": {
             "colorbar": {
              "outlinewidth": 0,
              "ticks": ""
             }
            },
            "type": "scatter3d"
           }
          ],
          "scattercarpet": [
           {
            "marker": {
             "colorbar": {
              "outlinewidth": 0,
              "ticks": ""
             }
            },
            "type": "scattercarpet"
           }
          ],
          "scattergeo": [
           {
            "marker": {
             "colorbar": {
              "outlinewidth": 0,
              "ticks": ""
             }
            },
            "type": "scattergeo"
           }
          ],
          "scattergl": [
           {
            "marker": {
             "line": {
              "color": "#283442"
             }
            },
            "type": "scattergl"
           }
          ],
          "scattermapbox": [
           {
            "marker": {
             "colorbar": {
              "outlinewidth": 0,
              "ticks": ""
             }
            },
            "type": "scattermapbox"
           }
          ],
          "scatterpolar": [
           {
            "marker": {
             "colorbar": {
              "outlinewidth": 0,
              "ticks": ""
             }
            },
            "type": "scatterpolar"
           }
          ],
          "scatterpolargl": [
           {
            "marker": {
             "colorbar": {
              "outlinewidth": 0,
              "ticks": ""
             }
            },
            "type": "scatterpolargl"
           }
          ],
          "scatterternary": [
           {
            "marker": {
             "colorbar": {
              "outlinewidth": 0,
              "ticks": ""
             }
            },
            "type": "scatterternary"
           }
          ],
          "surface": [
           {
            "colorbar": {
             "outlinewidth": 0,
             "ticks": ""
            },
            "colorscale": [
             [
              0,
              "#0d0887"
             ],
             [
              0.1111111111111111,
              "#46039f"
             ],
             [
              0.2222222222222222,
              "#7201a8"
             ],
             [
              0.3333333333333333,
              "#9c179e"
             ],
             [
              0.4444444444444444,
              "#bd3786"
             ],
             [
              0.5555555555555556,
              "#d8576b"
             ],
             [
              0.6666666666666666,
              "#ed7953"
             ],
             [
              0.7777777777777778,
              "#fb9f3a"
             ],
             [
              0.8888888888888888,
              "#fdca26"
             ],
             [
              1,
              "#f0f921"
             ]
            ],
            "type": "surface"
           }
          ],
          "table": [
           {
            "cells": {
             "fill": {
              "color": "#506784"
             },
             "line": {
              "color": "rgb(17,17,17)"
             }
            },
            "header": {
             "fill": {
              "color": "#2a3f5f"
             },
             "line": {
              "color": "rgb(17,17,17)"
             }
            },
            "type": "table"
           }
          ]
         },
         "layout": {
          "annotationdefaults": {
           "arrowcolor": "#f2f5fa",
           "arrowhead": 0,
           "arrowwidth": 1
          },
          "autotypenumbers": "strict",
          "coloraxis": {
           "colorbar": {
            "outlinewidth": 0,
            "ticks": ""
           }
          },
          "colorscale": {
           "diverging": [
            [
             0,
             "#8e0152"
            ],
            [
             0.1,
             "#c51b7d"
            ],
            [
             0.2,
             "#de77ae"
            ],
            [
             0.3,
             "#f1b6da"
            ],
            [
             0.4,
             "#fde0ef"
            ],
            [
             0.5,
             "#f7f7f7"
            ],
            [
             0.6,
             "#e6f5d0"
            ],
            [
             0.7,
             "#b8e186"
            ],
            [
             0.8,
             "#7fbc41"
            ],
            [
             0.9,
             "#4d9221"
            ],
            [
             1,
             "#276419"
            ]
           ],
           "sequential": [
            [
             0,
             "#0d0887"
            ],
            [
             0.1111111111111111,
             "#46039f"
            ],
            [
             0.2222222222222222,
             "#7201a8"
            ],
            [
             0.3333333333333333,
             "#9c179e"
            ],
            [
             0.4444444444444444,
             "#bd3786"
            ],
            [
             0.5555555555555556,
             "#d8576b"
            ],
            [
             0.6666666666666666,
             "#ed7953"
            ],
            [
             0.7777777777777778,
             "#fb9f3a"
            ],
            [
             0.8888888888888888,
             "#fdca26"
            ],
            [
             1,
             "#f0f921"
            ]
           ],
           "sequentialminus": [
            [
             0,
             "#0d0887"
            ],
            [
             0.1111111111111111,
             "#46039f"
            ],
            [
             0.2222222222222222,
             "#7201a8"
            ],
            [
             0.3333333333333333,
             "#9c179e"
            ],
            [
             0.4444444444444444,
             "#bd3786"
            ],
            [
             0.5555555555555556,
             "#d8576b"
            ],
            [
             0.6666666666666666,
             "#ed7953"
            ],
            [
             0.7777777777777778,
             "#fb9f3a"
            ],
            [
             0.8888888888888888,
             "#fdca26"
            ],
            [
             1,
             "#f0f921"
            ]
           ]
          },
          "colorway": [
           "#636efa",
           "#EF553B",
           "#00cc96",
           "#ab63fa",
           "#FFA15A",
           "#19d3f3",
           "#FF6692",
           "#B6E880",
           "#FF97FF",
           "#FECB52"
          ],
          "font": {
           "color": "#f2f5fa"
          },
          "geo": {
           "bgcolor": "rgb(17,17,17)",
           "lakecolor": "rgb(17,17,17)",
           "landcolor": "rgb(17,17,17)",
           "showlakes": true,
           "showland": true,
           "subunitcolor": "#506784"
          },
          "hoverlabel": {
           "align": "left"
          },
          "hovermode": "closest",
          "mapbox": {
           "style": "dark"
          },
          "paper_bgcolor": "rgb(17,17,17)",
          "plot_bgcolor": "rgb(17,17,17)",
          "polar": {
           "angularaxis": {
            "gridcolor": "#506784",
            "linecolor": "#506784",
            "ticks": ""
           },
           "bgcolor": "rgb(17,17,17)",
           "radialaxis": {
            "gridcolor": "#506784",
            "linecolor": "#506784",
            "ticks": ""
           }
          },
          "scene": {
           "xaxis": {
            "backgroundcolor": "rgb(17,17,17)",
            "gridcolor": "#506784",
            "gridwidth": 2,
            "linecolor": "#506784",
            "showbackground": true,
            "ticks": "",
            "zerolinecolor": "#C8D4E3"
           },
           "yaxis": {
            "backgroundcolor": "rgb(17,17,17)",
            "gridcolor": "#506784",
            "gridwidth": 2,
            "linecolor": "#506784",
            "showbackground": true,
            "ticks": "",
            "zerolinecolor": "#C8D4E3"
           },
           "zaxis": {
            "backgroundcolor": "rgb(17,17,17)",
            "gridcolor": "#506784",
            "gridwidth": 2,
            "linecolor": "#506784",
            "showbackground": true,
            "ticks": "",
            "zerolinecolor": "#C8D4E3"
           }
          },
          "shapedefaults": {
           "line": {
            "color": "#f2f5fa"
           }
          },
          "sliderdefaults": {
           "bgcolor": "#C8D4E3",
           "bordercolor": "rgb(17,17,17)",
           "borderwidth": 1,
           "tickwidth": 0
          },
          "ternary": {
           "aaxis": {
            "gridcolor": "#506784",
            "linecolor": "#506784",
            "ticks": ""
           },
           "baxis": {
            "gridcolor": "#506784",
            "linecolor": "#506784",
            "ticks": ""
           },
           "bgcolor": "rgb(17,17,17)",
           "caxis": {
            "gridcolor": "#506784",
            "linecolor": "#506784",
            "ticks": ""
           }
          },
          "title": {
           "x": 0.05
          },
          "updatemenudefaults": {
           "bgcolor": "#506784",
           "borderwidth": 0
          },
          "xaxis": {
           "automargin": true,
           "gridcolor": "#283442",
           "linecolor": "#506784",
           "ticks": "",
           "title": {
            "standoff": 15
           },
           "zerolinecolor": "#283442",
           "zerolinewidth": 2
          },
          "yaxis": {
           "automargin": true,
           "gridcolor": "#283442",
           "linecolor": "#506784",
           "ticks": "",
           "title": {
            "standoff": 15
           },
           "zerolinecolor": "#283442",
           "zerolinewidth": 2
          }
         }
        },
        "xaxis": {
         "anchor": "y",
         "domain": [
          0,
          1
         ],
         "title": {
          "text": "Datereal"
         }
        },
        "yaxis": {
         "anchor": "x",
         "domain": [
          0,
          1
         ],
         "title": {
          "text": "Arrivals (Tonnes)"
         }
        }
       }
      }
     },
     "metadata": {},
     "output_type": "display_data"
    }
   ],
   "source": [
    "import plotly.express as px\n",
    "fig = px.line(mydata, x=\"Datereal\", y=\"Arrivals (Tonnes)\", template = 'plotly_dark')\n",
    "fig.show()"
   ]
  },
  {
   "cell_type": "code",
   "execution_count": null,
   "metadata": {},
   "outputs": [
    {
     "data": {
      "text/plain": [
       "[<matplotlib.lines.Line2D at 0x2000ade0970>]"
      ]
     },
     "execution_count": 376,
     "metadata": {},
     "output_type": "execute_result"
    },
    {
     "data": {
      "image/png": "[encoded data removed]",
      "text/plain": [
       "<Figure size 800x550 with 1 Axes>"
      ]
     },
     "metadata": {},
     "output_type": "display_data"
    }
   ],
   "source": [
    "ply.plot(indexdatasetnew)"
   ]
  },
  {
   "cell_type": "code",
   "execution_count": null,
   "metadata": {},
   "outputs": [],
   "source": [
    "brolmean = indexdatasetnew.rolling(window=365).mean()\n",
    "rolstd = indexdatasetnew.rolling(window=365).std()\n",
    "# print(rolmean,rolstd)"
   ]
  },
  {
   "cell_type": "code",
   "execution_count": null,
   "metadata": {},
   "outputs": [
    {
     "name": "stdout",
     "output_type": "stream",
     "text": [
      "Arrival Date\n",
      "2022-01-02            NaN\n",
      "2022-01-03            NaN\n",
      "2022-01-04            NaN\n",
      "2022-01-05            NaN\n",
      "2022-01-06            NaN\n",
      "2022-01-07            NaN\n",
      "2022-01-08            NaN\n",
      "2022-01-09            NaN\n",
      "2022-01-10            NaN\n",
      "2022-01-11            NaN\n",
      "2022-01-12            NaN\n",
      "2022-01-13            NaN\n",
      "2022-01-14            NaN\n",
      "2022-01-15            NaN\n",
      "2022-01-16            NaN\n",
      "2022-01-17            NaN\n",
      "2022-01-18            NaN\n",
      "2022-01-19            NaN\n",
      "2022-01-20            NaN\n",
      "2022-01-21            NaN\n",
      "2022-01-22            NaN\n",
      "2022-01-23            NaN\n",
      "2022-01-24            NaN\n",
      "2022-01-25            NaN\n",
      "2022-01-26            NaN\n",
      "2022-01-27            NaN\n",
      "2022-01-28            NaN\n",
      "2022-01-29            NaN\n",
      "2022-01-30            NaN\n",
      "2022-01-31    3243.333333\n",
      "2022-02-01    3235.000000\n",
      "2022-02-02    3226.666667\n",
      "2022-02-03    3218.333333\n",
      "2022-02-04    3210.000000\n",
      "2022-02-05    3201.666667\n",
      "2022-02-06    3193.333333\n",
      "2022-02-07    3201.666667\n",
      "2022-02-08    3193.333333\n",
      "2022-02-09    3185.000000\n",
      "2022-02-10    3168.333333\n",
      "2022-02-11    3160.000000\n",
      "2022-02-12    3151.666667\n",
      "2022-02-13    3166.666667\n",
      "2022-02-14    3181.666667\n",
      "2022-02-15    3196.666667\n",
      "2022-02-16    3211.666667\n",
      "2022-02-17    3226.666667\n",
      "2022-02-18    3241.666667\n",
      "2022-02-19    3233.333333\n",
      "2022-02-20    3233.333333\n",
      "Name: Modal Price(Rs./Quintal), dtype: float64 Arrival Date\n",
      "2022-01-02           NaN\n",
      "2022-01-03           NaN\n",
      "2022-01-04           NaN\n",
      "2022-01-05           NaN\n",
      "2022-01-06           NaN\n",
      "                 ...    \n",
      "2023-04-26    276.596723\n",
      "2023-04-27    244.102861\n",
      "2023-04-28    202.966505\n",
      "2023-04-29    146.059349\n",
      "2023-04-30      0.000000\n",
      "Name: Modal Price(Rs./Quintal), Length: 424, dtype: float64\n"
     ]
    }
   ],
   "source": [
    "rolmeanmonth = indexdatasetnew.rolling(window=30).mean()\n",
    "rolstdmonth = indexdatasetnew.rolling(window=30).std()\n",
    "print(rolmeanmonth.head(50),rolstdmonth)"
   ]
  },
  {
   "cell_type": "code",
   "execution_count": null,
   "metadata": {},
   "outputs": [
    {
     "name": "stdout",
     "output_type": "stream",
     "text": [
      "Arrival Date\n",
      "2022-01-02    3500.0\n",
      "2022-01-03    3500.0\n",
      "2022-01-04    3500.0\n",
      "2022-01-05    3500.0\n",
      "2022-01-06    3500.0\n",
      "2022-01-07    3500.0\n",
      "2022-01-08    3000.0\n",
      "2022-01-09    3500.0\n",
      "2022-01-10    3500.0\n",
      "2022-01-11    3500.0\n",
      "2022-01-12    3500.0\n",
      "2022-01-13    3500.0\n",
      "2022-01-14    2800.0\n",
      "2022-01-15    2800.0\n",
      "2022-01-16    2800.0\n",
      "2022-01-17    2800.0\n",
      "2022-01-18    2800.0\n",
      "2022-01-19    2800.0\n",
      "2022-01-20    3250.0\n",
      "2022-01-21    3250.0\n",
      "2022-01-22    3250.0\n",
      "2022-01-23    3250.0\n",
      "2022-01-24    3250.0\n",
      "2022-01-25    3250.0\n",
      "2022-01-26    3250.0\n",
      "2022-01-27    3250.0\n",
      "2022-01-28    3250.0\n",
      "2022-01-29    3250.0\n",
      "2022-01-30    3250.0\n",
      "2022-01-31    3250.0\n",
      "2022-02-01    3250.0\n",
      "2022-02-02    3250.0\n",
      "2022-02-03    3250.0\n",
      "2022-02-04    3250.0\n",
      "2022-02-05    3250.0\n",
      "2022-02-06    3250.0\n",
      "2022-02-07    3250.0\n",
      "2022-02-08    3250.0\n",
      "2022-02-09    3250.0\n",
      "2022-02-10    3000.0\n",
      "2022-02-11    3250.0\n",
      "2022-02-12    3250.0\n",
      "2022-02-13    3250.0\n",
      "2022-02-14    3250.0\n",
      "2022-02-15    3250.0\n",
      "2022-02-16    3250.0\n",
      "2022-02-17    3250.0\n",
      "2022-02-18    3250.0\n",
      "2022-02-19    3000.0\n",
      "2022-02-20    3250.0\n",
      "Name: Modal Price(Rs./Quintal), dtype: float64 Arrival Date\n",
      "2022-01-02   NaN\n",
      "2022-01-03   NaN\n",
      "2022-01-04   NaN\n",
      "2022-01-05   NaN\n",
      "2022-01-06   NaN\n",
      "              ..\n",
      "2023-04-26   NaN\n",
      "2023-04-27   NaN\n",
      "2023-04-28   NaN\n",
      "2023-04-29   NaN\n",
      "2023-04-30   NaN\n",
      "Name: Modal Price(Rs./Quintal), Length: 424, dtype: float64\n"
     ]
    }
   ],
   "source": [
    "rolmeanday = indexdatasetnew.rolling(window=1).mean()\n",
    "rolstdday = indexdatasetnew.rolling(window=1).std()\n",
    "print(rolmeanday.head(50),rolstdday)"
   ]
  },
  {
   "cell_type": "code",
   "execution_count": null,
   "metadata": {},
   "outputs": [
    {
     "data": {
      "image/png": "[encoded data removed]",
      "text/plain": [
       "<Figure size 800x550 with 1 Axes>"
      ]
     },
     "metadata": {},
     "output_type": "display_data"
    }
   ],
   "source": [
    "#plots\n",
    "original = ply.plot(indexdatasetnew,color='blue',label='original')\n",
    "mean = ply.plot(rolstdmonth,color='red',label='mean')\n",
    "std = ply.plot(rolmeanmonth,color='black',label='std')\n",
    "ply.legend(loc='best')\n",
    "ply.title('rolling mean & std')\n",
    "ply.show(block=False)\n"
   ]
  },
  {
   "cell_type": "code",
   "execution_count": null,
   "metadata": {},
   "outputs": [],
   "source": []
  },
  {
   "cell_type": "code",
   "execution_count": null,
   "metadata": {},
   "outputs": [
    {
     "name": "stdout",
     "output_type": "stream",
     "text": [
      "test results:-\n",
      "Test Statistic             -2.143801\n",
      "p-value                     0.227271\n",
      "#Lags used                  9.000000\n",
      "No of observation used    414.000000\n",
      "1%                         -3.446244\n",
      "5%                         -2.868547\n",
      "10%                        -2.570502\n",
      "dtype: float64\n"
     ]
    }
   ],
   "source": [
    "# dicky fuller test\n",
    "from statsmodels.tsa.stattools import adfuller\n",
    "print('test results:-')\n",
    "dftest = adfuller(indexdatasetnew,autolag='AIC')\n",
    "dfoutput = pd.Series(dftest[0:4],index=['Test Statistic','p-value','#Lags used','No of observation used'])\n",
    "for key,value in dftest[4].items():\n",
    "    dfoutput[key] = value\n",
    "\n",
    "print(dfoutput)"
   ]
  },
  {
   "cell_type": "code",
   "execution_count": 34,
   "metadata": {},
   "outputs": [
    {
     "data": {
      "text/plain": [
       "[<matplotlib.lines.Line2D at 0x232a2ec2490>]"
      ]
     },
     "execution_count": 34,
     "metadata": {},
     "output_type": "execute_result"
    },
    {
     "data": {
      "image/png": "[encoded data removed]",
      "text/plain": [
       "<Figure size 640x480 with 1 Axes>"
      ]
     },
     "metadata": {},
     "output_type": "display_data"
    }
   ],
   "source": [
    "#test estimation\n",
    "indexdata_log = np.log(indexdatasetnew)\n",
    "ply.plot(indexdata_log)"
   ]
  },
  {
   "cell_type": "code",
   "execution_count": 35,
   "metadata": {},
   "outputs": [
    {
     "data": {
      "text/plain": [
       "0"
      ]
     },
     "execution_count": 35,
     "metadata": {},
     "output_type": "execute_result"
    }
   ],
   "source": [
    "indexdata_log.isna().sum()"
   ]
  },
  {
   "cell_type": "code",
   "execution_count": null,
   "metadata": {},
   "outputs": [
    {
     "data": {
      "text/plain": [
       "[<matplotlib.lines.Line2D at 0x20009782190>]"
      ]
     },
     "execution_count": 383,
     "metadata": {},
     "output_type": "execute_result"
    },
    {
     "data": {
      "image/png": "[encoded data removed]",
      "text/plain": [
       "<Figure size 800x550 with 1 Axes>"
      ]
     },
     "metadata": {},
     "output_type": "display_data"
    }
   ],
   "source": [
    "ma = indexdata_log.rolling(window=30).mean()\n",
    "mastd = indexdata_log.rolling(window=30).std()\n",
    "ply.plot(indexdata_log)\n",
    "ply.plot(ma,color='red')"
   ]
  },
  {
   "cell_type": "code",
   "execution_count": null,
   "metadata": {},
   "outputs": [
    {
     "data": {
      "text/plain": [
       "Arrival Date\n",
       "2022-01-02         NaN\n",
       "2022-01-03         NaN\n",
       "2022-01-04         NaN\n",
       "2022-01-05         NaN\n",
       "2022-01-06         NaN\n",
       "                ...   \n",
       "2023-04-26    0.078372\n",
       "2023-04-27    0.058779\n",
       "2023-04-28    0.039186\n",
       "2023-04-29    0.019593\n",
       "2023-04-30    0.000000\n",
       "Name: Modal Price(Rs./Quintal), Length: 424, dtype: float64"
      ]
     },
     "execution_count": 384,
     "metadata": {},
     "output_type": "execute_result"
    }
   ],
   "source": [
    "datalogminusmovinga = indexdata_log-ma\n",
    "datalogminusmovinga\n"
   ]
  },
  {
   "cell_type": "code",
   "execution_count": null,
   "metadata": {},
   "outputs": [
    {
     "data": {
      "text/plain": [
       "Arrival Date\n",
       "2022-01-31    0.005302\n",
       "2022-02-01    0.007773\n",
       "2022-02-02    0.010243\n",
       "2022-02-03    0.012713\n",
       "2022-02-04    0.015183\n",
       "                ...   \n",
       "2023-04-26    0.078372\n",
       "2023-04-27    0.058779\n",
       "2023-04-28    0.039186\n",
       "2023-04-29    0.019593\n",
       "2023-04-30    0.000000\n",
       "Name: Modal Price(Rs./Quintal), Length: 395, dtype: float64"
      ]
     },
     "execution_count": 385,
     "metadata": {},
     "output_type": "execute_result"
    }
   ],
   "source": [
    "#removing nan values\n",
    "datalogminusmovinga.dropna(inplace=True)\n",
    "datalogminusmovinga"
   ]
  },
  {
   "cell_type": "code",
   "execution_count": null,
   "metadata": {},
   "outputs": [
    {
     "data": {
      "text/plain": [
       "[<matplotlib.lines.Line2D at 0x200098e8ca0>]"
      ]
     },
     "execution_count": 386,
     "metadata": {},
     "output_type": "execute_result"
    },
    {
     "data": {
      "image/png": "[encoded data removed]",
      "text/plain": [
       "<Figure size 800x550 with 1 Axes>"
      ]
     },
     "metadata": {},
     "output_type": "display_data"
    }
   ],
   "source": [
    "ply.plot(datalogminusmovinga)"
   ]
  },
  {
   "cell_type": "code",
   "execution_count": null,
   "metadata": {},
   "outputs": [],
   "source": [
    "\n",
    "# complete adc test\n",
    "from statsmodels.tsa.stattools import adfuller\n",
    "def test_stationary(timeseries):\n",
    "    ma = timeseries.rolling(window=30).mean()\n",
    "    mastd = timeseries.rolling(window=30).std()\n",
    "    origin = ply.plot(timeseries,color='blue',label='original')\n",
    "    mean = ply.plot(ma,color='red',label='Rolling mean')\n",
    "    std = ply.plot(mastd,color='black',label='rolling std')\n",
    "    ply.legend(loc='best')\n",
    "    ply.title('Rolling mean and std')\n",
    "    ply.show(block=False)\n",
    "    print('test results:-')\n",
    "    dftest = adfuller(indexdatasetnew,autolag='AIC')\n",
    "    dfoutput = pd.Series(dftest[0:4],index=['Test Statistic','p-value','#Lags used','No of observation used'])\n",
    "    for key,value in dftest[4].items():\n",
    "        dfoutput[key] = value\n",
    "\n",
    "    print(dfoutput)\n"
   ]
  },
  {
   "cell_type": "code",
   "execution_count": null,
   "metadata": {},
   "outputs": [
    {
     "data": {
      "image/png": "[encoded data removed]",
      "text/plain": [
       "<Figure size 800x550 with 1 Axes>"
      ]
     },
     "metadata": {},
     "output_type": "display_data"
    },
    {
     "name": "stdout",
     "output_type": "stream",
     "text": [
      "test results:-\n",
      "Test Statistic             -2.143801\n",
      "p-value                     0.227271\n",
      "#Lags used                  9.000000\n",
      "No of observation used    414.000000\n",
      "1%                         -3.446244\n",
      "5%                         -2.868547\n",
      "10%                        -2.570502\n",
      "dtype: float64\n"
     ]
    }
   ],
   "source": [
    "test_stationary(datalogminusmovinga)"
   ]
  },
  {
   "cell_type": "markdown",
   "metadata": {},
   "source": [
    "# we can see that our p value is same as before and its above 0.05 therefore it is not stationary yet"
   ]
  },
  {
   "cell_type": "code",
   "execution_count": null,
   "metadata": {},
   "outputs": [
    {
     "data": {
      "text/plain": [
       "[<matplotlib.lines.Line2D at 0x200101df730>]"
      ]
     },
     "execution_count": 401,
     "metadata": {},
     "output_type": "execute_result"
    },
    {
     "data": {
      "image/png": "[encoded data removed]",
      "text/plain": [
       "<Figure size 800x550 with 1 Axes>"
      ]
     },
     "metadata": {},
     "output_type": "display_data"
    }
   ],
   "source": [
    "#weighted average\n",
    "weightav = indexdata_log.ewm(halflife=30,min_periods=0,adjust=True).mean()\n",
    "ply.plot(indexdata_log)\n",
    "ply.plot(weightav,color='red')"
   ]
  },
  {
   "cell_type": "code",
   "execution_count": null,
   "metadata": {},
   "outputs": [
    {
     "data": {
      "image/png": "[encoded data removed]",
      "text/plain": [
       "<Figure size 800x550 with 1 Axes>"
      ]
     },
     "metadata": {},
     "output_type": "display_data"
    },
    {
     "name": "stdout",
     "output_type": "stream",
     "text": [
      "test results:-\n",
      "Test Statistic             -2.143801\n",
      "p-value                     0.227271\n",
      "#Lags used                  9.000000\n",
      "No of observation used    414.000000\n",
      "1%                         -3.446244\n",
      "5%                         -2.868547\n",
      "10%                        -2.570502\n",
      "dtype: float64\n"
     ]
    }
   ],
   "source": [
    "#logscale minus exp decay\n",
    "logscaleminusexpweightedav = indexdata_log - weightav\n",
    "test_stationary(logscaleminusexpweightedav)"
   ]
  },
  {
   "cell_type": "code",
   "execution_count": null,
   "metadata": {},
   "outputs": [
    {
     "data": {
      "text/plain": [
       "[<matplotlib.lines.Line2D at 0x2000abb8f40>]"
      ]
     },
     "execution_count": 391,
     "metadata": {},
     "output_type": "execute_result"
    },
    {
     "data": {
      "image/png": "[encoded data removed]",
      "text/plain": [
       "<Figure size 800x550 with 1 Axes>"
      ]
     },
     "metadata": {},
     "output_type": "display_data"
    }
   ],
   "source": [
    "datasetlogshifting = indexdata_log - indexdata_log.shift()\n",
    "ply.plot(datasetlogshifting)"
   ]
  },
  {
   "cell_type": "code",
   "execution_count": null,
   "metadata": {},
   "outputs": [
    {
     "data": {
      "text/plain": [
       "[<matplotlib.lines.Line2D at 0x2000b6b6340>]"
      ]
     },
     "execution_count": 392,
     "metadata": {},
     "output_type": "execute_result"
    },
    {
     "data": {
      "image/png": "[encoded data removed]",
      "text/plain": [
       "<Figure size 800x550 with 1 Axes>"
      ]
     },
     "metadata": {},
     "output_type": "display_data"
    }
   ],
   "source": [
    "datasetlogshifting.dropna(inplace=True)\n",
    "ply.plot(datasetlogshifting)"
   ]
  },
  {
   "cell_type": "code",
   "execution_count": null,
   "metadata": {},
   "outputs": [
    {
     "data": {
      "image/png": "[encoded data removed]",
      "text/plain": [
       "<Figure size 800x550 with 1 Axes>"
      ]
     },
     "metadata": {},
     "output_type": "display_data"
    },
    {
     "name": "stdout",
     "output_type": "stream",
     "text": [
      "test results:-\n",
      "Test Statistic             -2.143801\n",
      "p-value                     0.227271\n",
      "#Lags used                  9.000000\n",
      "No of observation used    414.000000\n",
      "1%                         -3.446244\n",
      "5%                         -2.868547\n",
      "10%                        -2.570502\n",
      "dtype: float64\n"
     ]
    }
   ],
   "source": [
    "test_stationary(datasetlogshifting)"
   ]
  },
  {
   "cell_type": "code",
   "execution_count": null,
   "metadata": {},
   "outputs": [
    {
     "data": {
      "image/png": "[encoded data removed]",
      "text/plain": [
       "<Figure size 800x550 with 4 Axes>"
      ]
     },
     "metadata": {},
     "output_type": "display_data"
    }
   ],
   "source": [
    "#seasonal decompose for seasons in agricluture\n",
    "\n",
    "from statsmodels.tsa.seasonal import seasonal_decompose\n",
    "decompostion = seasonal_decompose(indexdata_log,period=1)\n",
    "\n",
    "trend = decompostion.trend\n",
    "seasonal = decompostion.seasonal\n",
    "resiual = decompostion.resid\n",
    "\n",
    "ply.subplot(411)\n",
    "ply.plot(indexdata_log,label='original')\n",
    "ply.legend(loc='best')\n",
    "ply.subplot(412)\n",
    "ply.plot(trend,label='Trend')\n",
    "ply.legend(loc='best')\n",
    "ply.subplot(413)\n",
    "ply.plot(seasonal,label='seasonality')\n",
    "ply.legend(loc='best')\n",
    "ply.subplot(414)\n",
    "ply.plot(resiual,label='residuals')\n",
    "ply.legend(loc='best')\n",
    "ply.tight_layout()\n"
   ]
  },
  {
   "cell_type": "code",
   "execution_count": null,
   "metadata": {},
   "outputs": [
    {
     "data": {
      "image/png": "[encoded data removed]",
      "text/plain": [
       "<Figure size 800x550 with 1 Axes>"
      ]
     },
     "metadata": {},
     "output_type": "display_data"
    },
    {
     "name": "stdout",
     "output_type": "stream",
     "text": [
      "test results:-\n",
      "Test Statistic             -2.143801\n",
      "p-value                     0.227271\n",
      "#Lags used                  9.000000\n",
      "No of observation used    414.000000\n",
      "1%                         -3.446244\n",
      "5%                         -2.868547\n",
      "10%                        -2.570502\n",
      "dtype: float64\n"
     ]
    }
   ],
   "source": [
    "decomposedloggdata = resiual\n",
    "decomposedloggdata.dropna(inplace=True)\n",
    "test_stationary(decomposedloggdata)"
   ]
  },
  {
   "cell_type": "code",
   "execution_count": null,
   "metadata": {},
   "outputs": [
    {
     "data": {
      "image/png": "[encoded data removed]",
      "text/plain": [
       "<Figure size 800x550 with 2 Axes>"
      ]
     },
     "metadata": {},
     "output_type": "display_data"
    }
   ],
   "source": [
    "#acf and pacf\n",
    "\n",
    "from statsmodels.tsa.stattools import acf,pacf\n",
    "\n",
    "log_acf = acf(datasetlogshifting,nlags=20)\n",
    "log_pacf = pacf(datasetlogshifting,nlags=20,method='ols')\n",
    "\n",
    "#plots\n",
    "ply.subplot(121)\n",
    "ply.plot(log_acf)\n",
    "ply.axhline(y=0,linestyle='--',color='gray')\n",
    "ply.axhline(y=-1.96/np.sqrt(len(datasetlogshifting)),linestyle='--',color='gray')\n",
    "ply.axhline(y=1.96/np.sqrt(len(datasetlogshifting)),linestyle='--',color='gray')\n",
    "ply.title('autocorrelation fn')\n",
    "\n",
    "\n",
    "ply.subplot(122)\n",
    "ply.plot(log_pacf)\n",
    "ply.axhline(y=0,linestyle='--',color='gray')\n",
    "ply.axhline(y=-1.96/np.sqrt(len(datasetlogshifting)),linestyle='--',color='gray')\n",
    "ply.axhline(y=1.96/np.sqrt(len(datasetlogshifting)),linestyle='--',color='gray')\n",
    "ply.title(' partial autocorrelation fn')\n",
    "ply.tight_layout()\n"
   ]
  },
  {
   "cell_type": "code",
   "execution_count": null,
   "metadata": {},
   "outputs": [
    {
     "name": "stdout",
     "output_type": "stream",
     "text": [
      "plotting ar model\n"
     ]
    },
    {
     "data": {
      "image/png": "[encoded data removed]",
      "text/plain": [
       "<Figure size 800x550 with 1 Axes>"
      ]
     },
     "metadata": {},
     "output_type": "display_data"
    }
   ],
   "source": [
    "#arima\n",
    "from statsmodels.tsa.arima.model import ARIMA\n",
    "#ar model\n",
    "model = ARIMA(indexdata_log,order=(0,1,2))\n",
    "result_ar = model.fit()\n",
    "ply.plot(datasetlogshifting)\n",
    "ply.plot(result_ar.fittedvalues,color='red')\n",
    "ply.title('Rss % .4f'% sum((result_ar.fittedvalues- datasetlogshifting) ** 2))\n",
    "print('plotting ar model')"
   ]
  },
  {
   "cell_type": "code",
   "execution_count": null,
   "metadata": {},
   "outputs": [
    {
     "name": "stdout",
     "output_type": "stream",
     "text": [
      "plotting ar model\n"
     ]
    },
    {
     "data": {
      "image/png": "[encoded data removed]",
      "text/plain": [
       "<Figure size 800x550 with 1 Axes>"
      ]
     },
     "metadata": {},
     "output_type": "display_data"
    }
   ],
   "source": [
    "# ma  model the p and q values determine if the model is ar or mr\n",
    "# order = (p,i,q)\n",
    "#  i - differnecing order\n",
    "modelma = ARIMA(indexdata_log,order=(2,1,0))\n",
    "result_ma = model.fit()\n",
    "ply.plot(datasetlogshifting)\n",
    "ply.plot(result_ma.fittedvalues,color='red')\n",
    "ply.title( sum((result_ma.fittedvalues- datasetlogshifting) ** 2))\n",
    "print('plotting ar model')\n"
   ]
  },
  {
   "cell_type": "code",
   "execution_count": null,
   "metadata": {},
   "outputs": [
    {
     "name": "stdout",
     "output_type": "stream",
     "text": [
      "plotting ar model\n"
     ]
    },
    {
     "data": {
      "image/png": "[encoded data removed]",
      "text/plain": [
       "<Figure size 800x550 with 1 Axes>"
      ]
     },
     "metadata": {},
     "output_type": "display_data"
    }
   ],
   "source": [
    "# Arima note that the rss should be minimum\n",
    "modelarima = ARIMA(indexdata_log,order=(2,1,2))\n",
    "result_arima = model.fit()\n",
    "ply.plot(datasetlogshifting)\n",
    "ply.plot(result_arima.fittedvalues,color='red')\n",
    "ply.title( sum((result_arima.fittedvalues- datasetlogshifting) ** 2))\n",
    "print('plotting ar model')\n"
   ]
  },
  {
   "cell_type": "code",
   "execution_count": null,
   "metadata": {},
   "outputs": [
    {
     "name": "stdout",
     "output_type": "stream",
     "text": [
      "Arrival Date\n",
      "2022-01-02    0.000000\n",
      "2022-01-03    8.160518\n",
      "2022-01-04    8.160518\n",
      "2022-01-05    8.160518\n",
      "2022-01-06    8.160518\n",
      "                ...   \n",
      "2023-04-26    7.495542\n",
      "2023-04-27    7.495542\n",
      "2023-04-28    7.495542\n",
      "2023-04-29    7.495542\n",
      "2023-04-30    7.495542\n",
      "Length: 424, dtype: float64\n"
     ]
    }
   ],
   "source": [
    "predict_arima  = pd.Series(result_arima.fittedvalues,copy=True)\n",
    "print(predict_arima)"
   ]
  },
  {
   "cell_type": "markdown",
   "metadata": {},
   "source": [
    "## data transformation back to the normal data"
   ]
  },
  {
   "cell_type": "code",
   "execution_count": null,
   "metadata": {},
   "outputs": [
    {
     "data": {
      "text/plain": [
       "Arrival Date\n",
       "2022-01-02       0.000000\n",
       "2022-01-03       8.160518\n",
       "2022-01-04      16.321036\n",
       "2022-01-05      24.481555\n",
       "2022-01-06      32.642073\n",
       "                 ...     \n",
       "2023-04-26    3022.635173\n",
       "2023-04-27    3030.130715\n",
       "2023-04-28    3037.626257\n",
       "2023-04-29    3045.121799\n",
       "2023-04-30    3052.617341\n",
       "Length: 424, dtype: float64"
      ]
     },
     "execution_count": 431,
     "metadata": {},
     "output_type": "execute_result"
    }
   ],
   "source": [
    "# cummulative sum\n",
    "pred_arima_diff_cumsum = predict_arima.cumsum()\n",
    "pred_arima_diff_cumsum"
   ]
  },
  {
   "cell_type": "code",
   "execution_count": null,
   "metadata": {},
   "outputs": [
    {
     "data": {
      "text/plain": [
       "Arrival Date\n",
       "2022-01-02     8.160518\n",
       "2022-01-03    16.321036\n",
       "2022-01-04    24.481555\n",
       "2022-01-05    32.642073\n",
       "2022-01-06    40.802591\n",
       "dtype: float64"
      ]
     },
     "execution_count": 438,
     "metadata": {},
     "output_type": "execute_result"
    }
   ],
   "source": [
    "predict_arima_log = pd.Series(indexdata_log.iloc[0],index=indexdata_log.index)\n",
    "predict_arima_log = predict_arima_log.add(pred_arima_diff_cumsum,fill_value=0)\n",
    "predict_arima_log.head()"
   ]
  },
  {
   "cell_type": "code",
   "execution_count": null,
   "metadata": {},
   "outputs": [
    {
     "data": {
      "text/plain": [
       "8.160518247477505"
      ]
     },
     "execution_count": 437,
     "metadata": {},
     "output_type": "execute_result"
    }
   ],
   "source": [
    "indexdata_log.iloc[0]"
   ]
  },
  {
   "cell_type": "code",
   "execution_count": null,
   "metadata": {},
   "outputs": [
    {
     "data": {
      "text/plain": [
       "[<matplotlib.lines.Line2D at 0x2000b939760>]"
      ]
     },
     "execution_count": 442,
     "metadata": {},
     "output_type": "execute_result"
    },
    {
     "data": {
      "image/png": "[encoded data removed]",
      "text/plain": [
       "<Figure size 800x550 with 1 Axes>"
      ]
     },
     "metadata": {},
     "output_type": "display_data"
    }
   ],
   "source": [
    "predictions_arima = np.exp(predict_arima_log)\n",
    "ply.plot(indexdatasetnew)\n",
    "ply.plot(predictions_arima,color='red')"
   ]
  },
  {
   "cell_type": "code",
   "execution_count": null,
   "metadata": {},
   "outputs": [
    {
     "data": {
      "text/plain": [
       "Arrival Date\n",
       "2022-01-02    8.160518\n",
       "2022-01-03    8.160518\n",
       "2022-01-04    8.160518\n",
       "2022-01-05    8.160518\n",
       "2022-01-06    8.160518\n",
       "                ...   \n",
       "2023-04-26    7.495542\n",
       "2023-04-27    7.495542\n",
       "2023-04-28    7.495542\n",
       "2023-04-29    7.495542\n",
       "2023-04-30    7.495542\n",
       "Name: Modal Price(Rs./Quintal), Length: 424, dtype: float64"
      ]
     },
     "execution_count": 441,
     "metadata": {},
     "output_type": "execute_result"
    }
   ],
   "source": [
    "indexdata_log"
   ]
  },
  {
   "cell_type": "code",
   "execution_count": null,
   "metadata": {},
   "outputs": [
    {
     "data": {
      "text/plain": [
       "<statsmodels.tsa.arima.model.ARIMAResultsWrapper at 0x2000f9e8310>"
      ]
     },
     "execution_count": 448,
     "metadata": {},
     "output_type": "execute_result"
    }
   ],
   "source": [
    "result_arima"
   ]
  },
  {
   "cell_type": "code",
   "execution_count": null,
   "metadata": {},
   "outputs": [
    {
     "data": {
      "text/plain": [
       "424    7.495542\n",
       "425    7.495542\n",
       "426    7.495542\n",
       "427    7.495542\n",
       "428    7.495542\n",
       "429    7.495542\n",
       "430    7.495542\n",
       "431    7.495542\n",
       "432    7.495542\n",
       "433    7.495542\n",
       "434    7.495542\n",
       "435    7.495542\n",
       "Name: predicted_mean, dtype: float64"
      ]
     },
     "execution_count": 450,
     "metadata": {},
     "output_type": "execute_result"
    },
    {
     "data": {
      "image/png": "[encoded data removed]",
      "text/plain": [
       "<Figure size 800x550 with 1 Axes>"
      ]
     },
     "metadata": {},
     "output_type": "display_data"
    }
   ],
   "source": [
    "# if you waant to predict for 12 years than steps  = 120\n",
    "from statsmodels.graphics.tsaplots import plot_predict\n",
    "plot_predict(result_arima,1,424+12)\n",
    "x = result_arima.forecast(steps=12)\n",
    "x"
   ]
  },
  {
   "cell_type": "code",
   "execution_count": null,
   "metadata": {},
   "outputs": [],
   "source": []
  },
  {
   "cell_type": "code",
   "execution_count": null,
   "metadata": {},
   "outputs": [],
   "source": []
  },
  {
   "cell_type": "code",
   "execution_count": null,
   "metadata": {},
   "outputs": [],
   "source": []
  }
 ],
 "metadata": {
  "kernelspec": {
   "display_name": "Python 3",
   "language": "python",
   "name": "python3"
  },
  "language_info": {
   "codemirror_mode": {
    "name": "ipython",
    "version": 3
   },
   "file_extension": ".py",
   "mimetype": "text/x-python",
   "name": "python",
   "nbconvert_exporter": "python",
   "pygments_lexer": "ipython3",
   "version": "3.11.4"
  }
 },
 "nbformat": 4,
 "nbformat_minor": 2
}
